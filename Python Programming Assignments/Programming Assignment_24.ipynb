{
 "cells": [
  {
   "cell_type": "markdown",
   "metadata": {},
   "source": [
    "#### Question1\n",
    "#### Create a function that takes an integer and returns a list from 1 to the given number, where:\n",
    "#### 1. If the number can be divided evenly by 4, amplify it by 10 (i.e. return 10 times the\n",
    "#### number).\n",
    "#### 2. If the number cannot be divided evenly by 4, simply return the number.\n",
    "#### Examples\n",
    "#### amplify(4) ➞ [1, 2, 3, 40]\n",
    "#### amplify(3) ➞ [1, 2, 3]\n",
    "#### amplify(25) ➞ [1, 2, 3, 40, 5, 6, 7, 80, 9, 10, 11, 120, 13, 14, 15, 160,\n",
    "#### 17, 18, 19, 200, 21, 22, 23, 240, 25]\n",
    "#### Notes\n",
    "#### - The given integer will always be equal to or greater than 1.\n",
    "#### - Include the number (see example above).\n",
    "#### - To perform this problem with its intended purpose, try doing it with list comprehensions. If that&#39;s too difficult, just solve the challenge any way you can."
   ]
  },
  {
   "cell_type": "code",
   "execution_count": 21,
   "metadata": {},
   "outputs": [
    {
     "name": "stdout",
     "output_type": "stream",
     "text": [
      "amplify(4) --->  [1, 2, 3, 40]\n",
      "amplify(3) --->  [1, 2, 3]\n",
      "amplify(25) --->  [1, 2, 3, 40, 5, 6, 7, 80, 9, 10, 11, 120, 13, 14, 15, 160, 17, 18, 19, 200, 21, 22, 23, 240, 25]\n"
     ]
    }
   ],
   "source": [
    "def amplify(num):\n",
    "    return [i if i%4 else i*10 for i in range(1,num+1)]\n",
    "            \n",
    "print('amplify(4) ---> ',amplify(4))\n",
    "print('amplify(3) ---> ',amplify(3))\n",
    "print('amplify(25) ---> ',amplify(25))"
   ]
  },
  {
   "cell_type": "markdown",
   "metadata": {},
   "source": [
    "#### Question2\n",
    "#### Create a function that takes a list of numbers and return the number that&#39;s unique.\n",
    "#### Examples\n",
    "#### unique([3, 3, 3, 7, 3, 3]) ➞ 7\n",
    "#### unique([0, 0, 0.77, 0, 0]) ➞ 0.77\n",
    "#### unique([0, 1, 1, 1, 1, 1, 1, 1]) ➞ 0\n",
    "#### Notes\n",
    "#### Test cases will always have exactly one unique number while all others are the same."
   ]
  },
  {
   "cell_type": "code",
   "execution_count": 6,
   "metadata": {},
   "outputs": [
    {
     "name": "stdout",
     "output_type": "stream",
     "text": [
      "unique([3,3,3,7,3,3]) --->  7\n",
      "\n",
      "unique([0, 0, 0.77, 0, 0]) --->  0.77\n",
      "\n",
      "unique([0, 1, 1, 1, 1, 1, 1, 1]) --->  0\n"
     ]
    }
   ],
   "source": [
    "def unique(li):\n",
    "    for i in li:\n",
    "        if li.count(i)==1:\n",
    "            return i\n",
    "        \n",
    "print('unique([3,3,3,7,3,3]) ---> ',unique([3,3,3,7,3,3]))\n",
    "print()\n",
    "print('unique([0, 0, 0.77, 0, 0]) ---> ',unique([0, 0, 0.77, 0, 0]))\n",
    "print()\n",
    "print('unique([0, 1, 1, 1, 1, 1, 1, 1]) ---> ',unique([0, 1, 1, 1, 1, 1, 1, 1]) )"
   ]
  },
  {
   "cell_type": "markdown",
   "metadata": {},
   "source": [
    "#### Question3\n",
    "#### Your task is to create a Circle constructor that creates a circle with a radius provided by an argument. The circles constructed must have two getters getArea() (PIr^2) and getPerimeter() (2PI*r) which give both respective areas and perimeter (circumference). For help with this class, I have provided you with a Rectangle constructor which you can use as a base example.\n",
    "#### Examples\n",
    "#### circy = Circle(11)\n",
    "#### circy.getArea()\n",
    "#### # Should return 380.132711084365\n",
    "#### circy = Circle(4.44)\n",
    "#### circy.getPerimeter()\n",
    "#### # Should return 27.897342763877365\n",
    "#### Notes\n",
    "#### Round results up to the nearest integer."
   ]
  },
  {
   "cell_type": "code",
   "execution_count": 12,
   "metadata": {},
   "outputs": [
    {
     "name": "stdout",
     "output_type": "stream",
     "text": [
      "Area of a circle having radius 11 -->  380\n",
      "\n",
      "Perimeter of a circle having radius 4.44 --->  28\n"
     ]
    }
   ],
   "source": [
    "from math import pi\n",
    "\n",
    "class circy:\n",
    "    def __init__(self,rad):\n",
    "        self.rad = rad\n",
    "        \n",
    "    def getArea(self): \n",
    "        return round((pi*(self.rad**2)))  #Round results up to the nearest integer.\n",
    "    \n",
    "    def getPerimeter(self):\n",
    "        return round((2*pi*self.rad))  #Round results up to the nearest integer.\n",
    "    \n",
    "    \n",
    "c = circy(11)\n",
    "print('Area of a circle having radius 11 --> ',c.getArea())\n",
    "\n",
    "print()\n",
    "\n",
    "d = circy(4.44)\n",
    "print('Perimeter of a circle having radius 4.44 ---> ',d.getPerimeter())\n"
   ]
  },
  {
   "cell_type": "markdown",
   "metadata": {},
   "source": [
    "#### Question4\n",
    "#### Create a function that takes a list of strings and return a list, sorted from shortest to longest.\n",
    "#### Examples\n",
    "#### sort_by_length([&quot;Google&quot;, &quot;Apple&quot;, &quot;Microsoft&quot;])\n",
    "#### ➞ [&quot;Apple&quot;, &quot;Google&quot;, &quot;Microsoft&quot;]\n",
    "#### sort_by_length([&quot;Leonardo&quot;, &quot;Michelangelo&quot;, &quot;Raphael&quot;, &quot;Donatello&quot;])\n",
    "#### ➞ [&quot;Raphael&quot;, &quot;Leonardo&quot;, &quot;Donatello&quot;, &quot;Michelangelo&quot;]\n",
    "#### sort_by_length([&quot;Turing&quot;, &quot;Einstein&quot;, &quot;Jung&quot;])\n",
    "#### ➞ [&quot;Jung&quot;, &quot;Turing&quot;, &quot;Einstein&quot;]\n",
    "#### Notes\n",
    "#### All test cases contain lists with strings of different lengths, so you won&#39;t have to deal with multiple strings of the same length."
   ]
  },
  {
   "cell_type": "code",
   "execution_count": 17,
   "metadata": {},
   "outputs": [
    {
     "name": "stdout",
     "output_type": "stream",
     "text": [
      "sort_by_length([\"Google\", \"Apple\", \"Microsoft\"]) --->  ['Apple', 'Google', 'Microsoft']\n",
      "\n",
      "sort_by_length([\"Leonardo\", \"Michelangelo\", \"Raphael\", \"Donatello\"]) --->  ['Raphael', 'Leonardo', 'Donatello', 'Michelangelo']\n",
      "\n",
      "sort_by_length([\"Turing\", \"Einstein\", \"Jung\"]) --->  ['Jung', 'Turing', 'Einstein']\n"
     ]
    }
   ],
   "source": [
    "def sort_by_length(list_of_str):\n",
    "    return sorted(list_of_str,key = lambda x : len(x))\n",
    "\n",
    "print('sort_by_length([\"Google\", \"Apple\", \"Microsoft\"]) ---> ',sort_by_length([\"Google\", \"Apple\", \"Microsoft\"]))\n",
    "print()\n",
    "print('sort_by_length([\"Leonardo\", \"Michelangelo\", \"Raphael\", \"Donatello\"]) ---> ',sort_by_length([\"Leonardo\", \"Michelangelo\", \"Raphael\", \"Donatello\"]))\n",
    "print()\n",
    "print('sort_by_length([\"Turing\", \"Einstein\", \"Jung\"]) ---> ',sort_by_length([\"Turing\", \"Einstein\", \"Jung\"]))"
   ]
  },
  {
   "cell_type": "markdown",
   "metadata": {},
   "source": [
    "#### Question5\n",
    "#### Create a function that validates whether three given integers form a Pythagorean triplet. Thesum of the squares of the two smallest integers must equal the square of the largest number to be validated.\n",
    "#### Examples\n",
    "#### is_triplet(3, 4, 5) ➞ True\n",
    "#### # 3² + 4² = 25\n",
    "#### # 5² = 25\n",
    "#### is_triplet(13, 5, 12) ➞ True\n",
    "#### # 5² + 12² = 169\n",
    "#### # 13² = 169\n",
    "#### is_triplet(1, 2, 3) ➞ False\n",
    "#### # 1² + 2² = 5\n",
    "#### # 3² = 9\n",
    "#### Notes\n",
    "#### Numbers may not be given in a sorted order."
   ]
  },
  {
   "cell_type": "code",
   "execution_count": 20,
   "metadata": {},
   "outputs": [
    {
     "name": "stdout",
     "output_type": "stream",
     "text": [
      "is_triplet(3,4,5) --->  True\n",
      "\n",
      "is_triplet(13, 5, 12)  --->  True\n",
      "\n",
      "is_triplet(1, 2, 3) --->  False\n"
     ]
    }
   ],
   "source": [
    "def is_triplet(x,y,z):\n",
    "    lis = [x,y,z]\n",
    "    min1 = lis.pop(lis.index(min(lis)))\n",
    "    min2 = lis.pop(lis.index(min(lis)))\n",
    "    max1 = lis[0]\n",
    "    if (min1**2)+(min2**2) == max1**2:\n",
    "        return True\n",
    "    return False\n",
    "\n",
    "print('is_triplet(3,4,5) ---> ',is_triplet(3,4,5))\n",
    "print()\n",
    "print('is_triplet(13, 5, 12)  ---> ',is_triplet(13, 5, 12))\n",
    "print()\n",
    "print('is_triplet(1, 2, 3) ---> ',is_triplet(1, 2, 3))"
   ]
  }
 ],
 "metadata": {
  "kernelspec": {
   "display_name": "Python 3",
   "language": "python",
   "name": "python3"
  },
  "language_info": {
   "codemirror_mode": {
    "name": "ipython",
    "version": 3
   },
   "file_extension": ".py",
   "mimetype": "text/x-python",
   "name": "python",
   "nbconvert_exporter": "python",
   "pygments_lexer": "ipython3",
   "version": "3.8.8"
  }
 },
 "nbformat": 4,
 "nbformat_minor": 4
}
