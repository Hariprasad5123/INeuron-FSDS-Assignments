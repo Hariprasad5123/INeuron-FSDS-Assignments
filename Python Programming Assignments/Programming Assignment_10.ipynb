{
 "cells": [
  {
   "cell_type": "markdown",
   "metadata": {},
   "source": [
    "#### 1. Write a Python program to find sum of elements in list?"
   ]
  },
  {
   "cell_type": "code",
   "execution_count": 1,
   "metadata": {},
   "outputs": [
    {
     "name": "stdout",
     "output_type": "stream",
     "text": [
      "1 5 6 7 2 1\n",
      "Sum of the list :  22\n"
     ]
    }
   ],
   "source": [
    "l1 = [int(i) for i in input().split()]\n",
    "print('Sum of the list : ',sum(l1))"
   ]
  },
  {
   "cell_type": "markdown",
   "metadata": {},
   "source": [
    "#### 2. Write a Python program to Multiply all numbers in the list?"
   ]
  },
  {
   "cell_type": "code",
   "execution_count": 2,
   "metadata": {},
   "outputs": [
    {
     "name": "stdout",
     "output_type": "stream",
     "text": [
      "1 4 2 3 1\n",
      "Product of all numbers in the list :  24\n"
     ]
    }
   ],
   "source": [
    "l2 = [int(i) for i in input().split()]\n",
    "prod = 1\n",
    "for i in l2:\n",
    "    prod *=i\n",
    "print('Product of all numbers in the list : ',prod)"
   ]
  },
  {
   "cell_type": "markdown",
   "metadata": {},
   "source": [
    "#### 3. Write a Python program to find smallest number in a list?"
   ]
  },
  {
   "cell_type": "code",
   "execution_count": 3,
   "metadata": {},
   "outputs": [
    {
     "name": "stdout",
     "output_type": "stream",
     "text": [
      "2 5 7 1 19 20 0 -2 -93 -2 \n",
      "Smallest element in a list :  -93\n"
     ]
    }
   ],
   "source": [
    "l3 = [int(i) for i in input().split()]\n",
    "print('Smallest element in a list : ',min(l3))"
   ]
  },
  {
   "cell_type": "markdown",
   "metadata": {},
   "source": [
    "#### 4. Write a Python program to find largest number in a list?"
   ]
  },
  {
   "cell_type": "code",
   "execution_count": 5,
   "metadata": {},
   "outputs": [
    {
     "name": "stdout",
     "output_type": "stream",
     "text": [
      "57 29 60 12 93 19 39\n",
      "Largest element in a list :  93\n"
     ]
    }
   ],
   "source": [
    "l4 = [int(i) for i in input().split()]\n",
    "print('Largest element in a list : ',max(l4))"
   ]
  },
  {
   "cell_type": "markdown",
   "metadata": {},
   "source": [
    "#### 5. Write a Python program to find second largest number in a list?"
   ]
  },
  {
   "cell_type": "code",
   "execution_count": 9,
   "metadata": {},
   "outputs": [
    {
     "name": "stdout",
     "output_type": "stream",
     "text": [
      "93 465 57 28 19 1293\n",
      "Second largest element in a list :  465\n"
     ]
    }
   ],
   "source": [
    "l5 = [int(i) for i in input().split()]\n",
    "l5.remove(max(l5))\n",
    "print('Second largest element in a list : ',max(l5))"
   ]
  },
  {
   "cell_type": "markdown",
   "metadata": {},
   "source": [
    "#### 6. Write a Python program to find N largest elements from a list?"
   ]
  },
  {
   "cell_type": "code",
   "execution_count": 21,
   "metadata": {},
   "outputs": [
    {
     "name": "stdout",
     "output_type": "stream",
     "text": [
      "Enter value : 3\n",
      "N largest elements :  238194 5281 2319\n"
     ]
    }
   ],
   "source": [
    "l6 = [12,59,2319,5281,238194,129]\n",
    "ln = int(input('Enter value : '))\n",
    "print('N largest elements : ',*sorted(l6,reverse=True)[:ln])"
   ]
  },
  {
   "cell_type": "markdown",
   "metadata": {},
   "source": [
    "#### 7. Write a Python program to print even numbers in a list?"
   ]
  },
  {
   "cell_type": "code",
   "execution_count": 11,
   "metadata": {},
   "outputs": [
    {
     "name": "stdout",
     "output_type": "stream",
     "text": [
      "67 25 89 12 45 56 71\n",
      "Even numbers :  12 56\n"
     ]
    }
   ],
   "source": [
    "l7 = [int(i) for i in input().split()]\n",
    "print('Even numbers : ',*[i for i in l7 if not i%2])"
   ]
  },
  {
   "cell_type": "markdown",
   "metadata": {},
   "source": [
    "#### 8. Write a Python program to print odd numbers in a List?"
   ]
  },
  {
   "cell_type": "code",
   "execution_count": 12,
   "metadata": {},
   "outputs": [
    {
     "name": "stdout",
     "output_type": "stream",
     "text": [
      "67 23 81 12 46 52 72\n",
      "Odd numbers :  67 23 81\n"
     ]
    }
   ],
   "source": [
    "l8 = [int(i) for i in input().split()]\n",
    "print('Odd numbers : ',*[i for i in l8 if i%2])"
   ]
  },
  {
   "cell_type": "markdown",
   "metadata": {},
   "source": [
    "#### 9. Write a Python program to Remove empty List from List?"
   ]
  },
  {
   "cell_type": "code",
   "execution_count": 15,
   "metadata": {},
   "outputs": [
    {
     "name": "stdout",
     "output_type": "stream",
     "text": [
      "[1, 5, 7, [21, 67], 'h', (1, 6, 2)]\n"
     ]
    }
   ],
   "source": [
    "l9 = [1,5,7,[21,67],'h',[],(1,6,2),[]]\n",
    "for i in l9:\n",
    "    if type(i)==type([]):\n",
    "        if len(i)==0:\n",
    "            l9.remove(i)\n",
    "print(l9)"
   ]
  },
  {
   "cell_type": "markdown",
   "metadata": {},
   "source": [
    "#### 10. Write a Python program to Cloning or Copying a list?"
   ]
  },
  {
   "cell_type": "code",
   "execution_count": 16,
   "metadata": {},
   "outputs": [
    {
     "name": "stdout",
     "output_type": "stream",
     "text": [
      "copied list :  [97, 48, 29, 12, 58, 69]\n"
     ]
    }
   ],
   "source": [
    "lis = [97,48,29,12,58,69]\n",
    "l0 = lis.copy()\n",
    "print('copied list : ',l0)"
   ]
  },
  {
   "cell_type": "markdown",
   "metadata": {},
   "source": [
    "#### 11. Write a Python program to Count occurrences of an element in a list?"
   ]
  },
  {
   "cell_type": "code",
   "execution_count": 18,
   "metadata": {},
   "outputs": [
    {
     "name": "stdout",
     "output_type": "stream",
     "text": [
      "6\n",
      "6 is repeated in 4 times\n"
     ]
    }
   ],
   "source": [
    "lis1 = [2,5,7,2,1,8,1,6,9,0,1,2,6,7,2,9,8,0,6,2,6]\n",
    "val = int(input())\n",
    "print(val,'is repeated in',lis1.count(val),'times')"
   ]
  }
 ],
 "metadata": {
  "kernelspec": {
   "display_name": "Python 3",
   "language": "python",
   "name": "python3"
  },
  "language_info": {
   "codemirror_mode": {
    "name": "ipython",
    "version": 3
   },
   "file_extension": ".py",
   "mimetype": "text/x-python",
   "name": "python",
   "nbconvert_exporter": "python",
   "pygments_lexer": "ipython3",
   "version": "3.8.8"
  }
 },
 "nbformat": 4,
 "nbformat_minor": 4
}
