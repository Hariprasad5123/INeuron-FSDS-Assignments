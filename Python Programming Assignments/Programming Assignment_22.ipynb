{
 "cells": [
  {
   "cell_type": "markdown",
   "metadata": {},
   "source": [
    "#### Question1\n",
    "#### Create a function that takes three parameters where:\n",
    "#### - x is the start of the range (inclusive).\n",
    "#### - y is the end of the range (inclusive).\n",
    "#### - n is the divisor to be checked against.\n",
    "#### Return an ordered list with numbers in the range that are divisible by the third parameter n. Return an empty list if there are no numbers that are divisible by n.\n",
    "#### Examples\n",
    "#### list_operation(1, 10, 3) ➞ [3, 6, 9]\n",
    "#### list_operation(7, 9, 2) ➞ [8]\n",
    "#### list_operation(15, 20, 7) ➞ []"
   ]
  },
  {
   "cell_type": "code",
   "execution_count": 1,
   "metadata": {},
   "outputs": [
    {
     "name": "stdout",
     "output_type": "stream",
     "text": [
      "list_operation(1, 10, 3) --->  [3, 6, 9]\n",
      "\n",
      "list_operation(7, 9, 2) --->  [8]\n",
      "\n",
      "list_operation(15, 20, 7) --->  []\n"
     ]
    }
   ],
   "source": [
    "def list_operation(x,y,n):\n",
    "    l = []\n",
    "    for i in range(x,y+1):\n",
    "        if not i%n: l.append(i)\n",
    "    return l\n",
    "\n",
    "print('list_operation(1, 10, 3) ---> ',list_operation(1, 10, 3) )\n",
    "print()\n",
    "print('list_operation(7, 9, 2) ---> ',list_operation(7, 9, 2))\n",
    "print()\n",
    "print('list_operation(15, 20, 7) ---> ',list_operation(15, 20, 7))"
   ]
  },
  {
   "cell_type": "markdown",
   "metadata": {},
   "source": [
    "#### Question2\n",
    "#### Create a function that takes in two lists and returns True if the second list follows the first list by one element, and False otherwise. In other words, determine if the second list is the first list shifted to the right by 1.\n",
    "#### Examples\n",
    "#### simon_says([1, 2], [5, 1]) ➞ True\n",
    "#### simon_says([1, 2], [5, 5]) ➞ False\n",
    "#### simon_says([1, 2, 3, 4, 5], [0, 1, 2, 3, 4]) ➞ True\n",
    "#### simon_says([1, 2, 3, 4, 5], [5, 5, 1, 2, 3]) ➞ False\n",
    "#### Notes\n",
    "#### - Both input lists will be of the same length, and will have a minimum length of 2.\n",
    "#### - The values of the 0-indexed element in the second list and the n-1th indexed element in the first list do not matter."
   ]
  },
  {
   "cell_type": "code",
   "execution_count": 2,
   "metadata": {},
   "outputs": [
    {
     "name": "stdout",
     "output_type": "stream",
     "text": [
      "simon_says([1, 2], [5, 1]) --->  True\n",
      "\n",
      "simon_says([1, 2], [5, 5]) --->  False\n",
      "\n",
      "simon_says([1, 2, 3, 4, 5], [0, 1, 2, 3, 4]) --->  True\n",
      "\n",
      "simon_says([1, 2, 3, 4, 5], [5, 5, 1, 2, 3]) --->  False\n"
     ]
    }
   ],
   "source": [
    "def simon_says(l1,l2):\n",
    "    if l1[:-1]==l2[1:]: \n",
    "        return True\n",
    "    for i in range(len(l1)):\n",
    "        if l1[i]==l2[i+1]:\n",
    "            continue\n",
    "        return False\n",
    "    return True\n",
    "\n",
    "print('simon_says([1, 2], [5, 1]) ---> ',simon_says([1, 2], [5, 1]))\n",
    "print()\n",
    "print('simon_says([1, 2], [5, 5]) ---> ',simon_says([1, 2], [5, 5]))\n",
    "print()\n",
    "print('simon_says([1, 2, 3, 4, 5], [0, 1, 2, 3, 4]) ---> ',simon_says([1, 2, 3, 4, 5], [0, 1, 2, 3, 4]))\n",
    "print()\n",
    "print('simon_says([1, 2, 3, 4, 5], [5, 5, 1, 2, 3]) ---> ',simon_says([1, 2, 3, 4, 5], [5, 5, 1, 2, 3]))"
   ]
  },
  {
   "cell_type": "markdown",
   "metadata": {},
   "source": [
    "#### Question3\n",
    "#### A group of friends have decided to start a secret society. The name will be the first letter of each of their names, sorted in alphabetical order.\n",
    "#### Create a function that takes in a list of names and returns the name of the secret society.\n",
    "#### Examples\n",
    "#### society_name([&quot;Adam&quot;, &quot;Sarah&quot;, &quot;Malcolm&quot;]) ➞ &quot;AMS&quot;\n",
    "#### society_name([&quot;Harry&quot;, &quot;Newt&quot;, &quot;Luna&quot;, &quot;Cho&quot;]) ➞ &quot;CHLN&quot;\n",
    "#### society_name([&quot;Phoebe&quot;, &quot;Chandler&quot;, &quot;Rachel&quot;, &quot;Ross&quot;, &quot;Monica&quot;, &quot;Joey&quot;]) ➞ \"CJMPRR\""
   ]
  },
  {
   "cell_type": "code",
   "execution_count": 4,
   "metadata": {},
   "outputs": [
    {
     "name": "stdout",
     "output_type": "stream",
     "text": [
      "society_name([\"Adam\", \"Sarah\", \"Malcolm\"]) ) --->  AMS\n",
      "\n",
      "society_name([\"Harry\", \"Newt\", \"Luna\", \"Cho\"]) --->  CHLN\n",
      "\n",
      "society_name([\"Phoebe\", \"Chandler\", \"Rachel\", \"Ross\", \"Monica\", \"Joey\"]) --->  CJMPRR\n"
     ]
    }
   ],
   "source": [
    "def society_name(l):\n",
    "    return ''.join(sorted(''.join([i[0] for i in l])))\n",
    "\n",
    "print('society_name([\"Adam\", \"Sarah\", \"Malcolm\"]) ) ---> ',society_name([\"Adam\", \"Sarah\", \"Malcolm\"]) )\n",
    "print()\n",
    "print('society_name([\"Harry\", \"Newt\", \"Luna\", \"Cho\"]) ---> ',society_name([\"Harry\", \"Newt\", \"Luna\", \"Cho\"]))\n",
    "print()\n",
    "print('society_name([\"Phoebe\", \"Chandler\", \"Rachel\", \"Ross\", \"Monica\", \"Joey\"]) ---> ',society_name([\"Phoebe\", \"Chandler\", \"Rachel\", \"Ross\", \"Monica\", \"Joey\"]))"
   ]
  },
  {
   "cell_type": "markdown",
   "metadata": {},
   "source": [
    "#### Question4\n",
    "#### An isogram is a word that has no duplicate letters. Create a function that takes a string and returns either True or False depending on whether or not it&#39;s an &quot;isogram&quot;.\n",
    "#### Examples\n",
    "#### is_isogram(&quot;Algorism&quot;) ➞ True\n",
    "#### is_isogram(&quot;PasSword&quot;) ➞ False\n",
    "####  # Not case sensitive.\n",
    "#### is_isogram(&quot;Consecutive&quot;) ➞ False\n",
    "#### Notes\n",
    "#### - Ignore letter case (should not be case sensitive).\n",
    "#### - All test cases contain valid one word strings."
   ]
  },
  {
   "cell_type": "code",
   "execution_count": 14,
   "metadata": {},
   "outputs": [
    {
     "name": "stdout",
     "output_type": "stream",
     "text": [
      "is_isogram(\"Algorism\") --->  True\n",
      "\n",
      "is_isogram(\"PasSword\") --->  False\n",
      "\n",
      "is_isogram(\"Consecutive\") --->  False\n"
     ]
    }
   ],
   "source": [
    "def is_isogram(str1):\n",
    "    str1 = str1.lower()\n",
    "    if sum([str1.count(i) for i in str1])==len(str1):\n",
    "        return True\n",
    "    return False\n",
    "    \n",
    "print('is_isogram(\"Algorism\") ---> ',is_isogram(\"Algorism\"))\n",
    "print()\n",
    "print('is_isogram(\"PasSword\") ---> ',is_isogram(\"PasSword\"))\n",
    "print()\n",
    "print('is_isogram(\"Consecutive\") ---> ',is_isogram(\"Consecutive\"))"
   ]
  },
  {
   "cell_type": "markdown",
   "metadata": {},
   "source": [
    "#### Question5\n",
    "#### Create a function that takes a string and returns True or False, depending on whether the characters are in order or not.\n",
    "#### Examples\n",
    "#### is_in_order(&quot;abc&quot;) ➞ True\n",
    "#### is_in_order(&quot;edabit&quot;) ➞ False\n",
    "#### is_in_order(&quot;123&quot;) ➞ True\n",
    "#### is_in_order(&quot;xyzz&quot;) ➞ True\n",
    "#### Notes\n",
    "#### You don&#39;t have to handle empty strings."
   ]
  },
  {
   "cell_type": "code",
   "execution_count": 15,
   "metadata": {},
   "outputs": [
    {
     "name": "stdout",
     "output_type": "stream",
     "text": [
      "is_in_order(\"abc\") --->  True\n",
      "\n",
      "is_in_order(\"edabit\") --->  False\n",
      "\n",
      "is_in_order(\"123\") --->  True\n",
      "\n",
      "is_in_order(\"xyzz\") --->  True\n"
     ]
    }
   ],
   "source": [
    "def is_in_order(str2):\n",
    "    if ''.join(sorted(str2))==str2:\n",
    "        return True\n",
    "    return False\n",
    "\n",
    "print('is_in_order(\"abc\") ---> ',is_in_order(\"abc\"))\n",
    "print()\n",
    "print('is_in_order(\"edabit\") ---> ',is_in_order(\"edabit\"))\n",
    "print()\n",
    "print('is_in_order(\"123\") ---> ',is_in_order(\"123\"))\n",
    "print()\n",
    "print('is_in_order(\"xyzz\") ---> ',is_in_order(\"xyzz\"))"
   ]
  }
 ],
 "metadata": {
  "kernelspec": {
   "display_name": "Python 3",
   "language": "python",
   "name": "python3"
  },
  "language_info": {
   "codemirror_mode": {
    "name": "ipython",
    "version": 3
   },
   "file_extension": ".py",
   "mimetype": "text/x-python",
   "name": "python",
   "nbconvert_exporter": "python",
   "pygments_lexer": "ipython3",
   "version": "3.8.8"
  }
 },
 "nbformat": 4,
 "nbformat_minor": 4
}
