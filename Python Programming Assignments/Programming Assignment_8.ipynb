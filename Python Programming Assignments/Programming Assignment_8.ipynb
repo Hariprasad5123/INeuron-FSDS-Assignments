{
 "cells": [
  {
   "cell_type": "markdown",
   "metadata": {},
   "source": [
    "#### 1. Write a Python Program to Add Two Matrices?"
   ]
  },
  {
   "cell_type": "code",
   "execution_count": 1,
   "metadata": {},
   "outputs": [
    {
     "name": "stdout",
     "output_type": "stream",
     "text": [
      "Enter no. of rows : 3\n",
      "Enter no. of columns : 3\n",
      "Enter MATRIX-1 elements : \n",
      "1 1 1\n",
      "1 1 1\n",
      "1 1 1\n",
      "\n",
      "Enter MATRIX-2 elements : \n",
      "2 2 2\n",
      "2 2 2\n",
      "2 2 2\n",
      "\n",
      "Addition of two matrices :\n",
      "3 3 3 \n",
      "3 3 3 \n",
      "3 3 3 \n"
     ]
    }
   ],
   "source": [
    "m1,m2 = [],[]\n",
    "\n",
    "row = int(input('Enter no. of rows : '))\n",
    "col = int(input('Enter no. of columns : '))\n",
    "\n",
    "print('Enter MATRIX-1 elements : ')\n",
    "for i in range(row):\n",
    "    x = [int(j) for j in input().split()][:col]\n",
    "    m1.append(x)\n",
    "\n",
    "print() \n",
    "\n",
    "print('Enter MATRIX-2 elements : ')\n",
    "for i in range(row):\n",
    "    x = [int(j) for j in input().split()][:col]\n",
    "    m2.append(x)\n",
    "\n",
    "print()\n",
    "\n",
    "print('Addition of two matrices :')\n",
    "for i in range(row):\n",
    "    for j in range(col):\n",
    "        print(m1[i][j]+m2[i][j],end=' ')\n",
    "    print()"
   ]
  },
  {
   "cell_type": "markdown",
   "metadata": {},
   "source": [
    "#### 2. Write a Python Program to Multiply Two Matrices?"
   ]
  },
  {
   "cell_type": "code",
   "execution_count": 2,
   "metadata": {},
   "outputs": [
    {
     "name": "stdout",
     "output_type": "stream",
     "text": [
      "Enter no. of rows : 3\n",
      "Enter no. of columns : 3\n",
      "Enter MATRIX-1 elements : \n",
      "1 1 1\n",
      "1 2 1\n",
      "2 1 1\n",
      "\n",
      "Enter MATRIX-2 elements : \n",
      "2 1 1\n",
      "2 1 2\n",
      "1 1 2\n",
      "\n",
      "Multiplication of two matrices : \n",
      "5 5 5 \n",
      "4 4 4 \n",
      "6 6 6 \n"
     ]
    }
   ],
   "source": [
    "m1,m2 = [],[]\n",
    "\n",
    "row = int(input('Enter no. of rows : '))\n",
    "col = int(input('Enter no. of columns : '))\n",
    "\n",
    "print('Enter MATRIX-1 elements : ')\n",
    "for i in range(row):\n",
    "    x = [int(j) for j in input().split()][:col]\n",
    "    m1.append(x)\n",
    "\n",
    "print() \n",
    "\n",
    "print('Enter MATRIX-2 elements : ')\n",
    "for i in range(row):\n",
    "    x = [int(j) for j in input().split()][:col]\n",
    "    m2.append(x)\n",
    "\n",
    "print()\n",
    "\n",
    "print('Multiplication of two matrices : ')\n",
    "for i in range(row):\n",
    "    for j in range(col):\n",
    "        c = 0\n",
    "        for k in range(col):\n",
    "            c += m1[i][k]*m2[k][i]\n",
    "        print(c,end=' ')\n",
    "    print()  \n"
   ]
  },
  {
   "cell_type": "markdown",
   "metadata": {},
   "source": [
    "#### 3. Write a Python Program to Transpose a Matrix?"
   ]
  },
  {
   "cell_type": "code",
   "execution_count": 3,
   "metadata": {},
   "outputs": [
    {
     "name": "stdout",
     "output_type": "stream",
     "text": [
      "Enter no. of rows : 2 \n",
      "Enter no. of columns : 4 \n",
      "\n",
      "Matrix : \n",
      "4 3 2 1\n",
      "1 2 3 4\n",
      "\n",
      "Tranpose a matrix : \n",
      "4 1 \n",
      "3 2 \n",
      "2 3 \n",
      "1 4 \n"
     ]
    }
   ],
   "source": [
    "m = int(input('Enter no. of rows : '))\n",
    "n = int(input('Enter no. of columns : '))\n",
    "li = []\n",
    "\n",
    "print('\\nMatrix : ')\n",
    "for i in range(m):\n",
    "    x = [int(j) for j in input().split()][:n]\n",
    "    li.append(x)\n",
    "\n",
    "print('\\nTranpose a matrix : ')\n",
    "for i in range(n):\n",
    "    for j in range(m):\n",
    "        print(li[j][i],end=' ')\n",
    "    print()"
   ]
  },
  {
   "cell_type": "markdown",
   "metadata": {},
   "source": [
    "#### 4. Write a Python Program to Sort Words in Alphabetic Order?"
   ]
  },
  {
   "cell_type": "code",
   "execution_count": 5,
   "metadata": {},
   "outputs": [
    {
     "name": "stdout",
     "output_type": "stream",
     "text": [
      "python programming is cool\n",
      "cool is programming python\n"
     ]
    }
   ],
   "source": [
    "st = input().split()\n",
    "print(' '.join(sorted(st)))"
   ]
  },
  {
   "cell_type": "markdown",
   "metadata": {},
   "source": [
    "#### 5. Write a Python Program to Remove Punctuation From a String?"
   ]
  },
  {
   "cell_type": "code",
   "execution_count": 4,
   "metadata": {},
   "outputs": [
    {
     "name": "stdout",
     "output_type": "stream",
     "text": [
      "\"Hello!\", Ineuron--- I am learning &python.\n",
      "Hello Ineuron I am learning python\n"
     ]
    }
   ],
   "source": [
    "string = input()\n",
    "punc = '''!()-[]{};:'\"\\,<>./?@#$%^&*_~'''\n",
    "s = ''\n",
    "for ch in string:\n",
    "    if ch not in punc:\n",
    "        s += ch\n",
    "    \n",
    "print(s)"
   ]
  }
 ],
 "metadata": {
  "kernelspec": {
   "display_name": "Python 3",
   "language": "python",
   "name": "python3"
  },
  "language_info": {
   "codemirror_mode": {
    "name": "ipython",
    "version": 3
   },
   "file_extension": ".py",
   "mimetype": "text/x-python",
   "name": "python",
   "nbconvert_exporter": "python",
   "pygments_lexer": "ipython3",
   "version": "3.8.8"
  }
 },
 "nbformat": 4,
 "nbformat_minor": 4
}
