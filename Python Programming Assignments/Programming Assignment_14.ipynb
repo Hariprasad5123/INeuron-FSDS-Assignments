{
 "cells": [
  {
   "cell_type": "markdown",
   "metadata": {},
   "source": [
    "#### Question 1:\n",
    "#### Define a class with a generator which can iterate the numbers, which are divisible by 7, between a given range 0 and n."
   ]
  },
  {
   "cell_type": "code",
   "execution_count": 1,
   "metadata": {},
   "outputs": [
    {
     "name": "stdout",
     "output_type": "stream",
     "text": [
      "Enter range : 100\n",
      "\n",
      "Numbers which are divisible by 7 : \n",
      "0 7 14 21 28 35 42 49 56 63 70 77 84 91 98 "
     ]
    }
   ],
   "source": [
    "class Generator:\n",
    "    def __init__(self,num):\n",
    "        self.num = num\n",
    "    def factors_of_7(self):\n",
    "        for i in range(0,self.num):\n",
    "            if not i%7:\n",
    "                yield i\n",
    "\n",
    "n = int(input('Enter range : '))\n",
    "gen = Generator(n)\n",
    "print('\\nNumbers which are divisible by 7 : ')\n",
    "for i in gen.factors_of_7():\n",
    "    print(i,end=' ')"
   ]
  },
  {
   "cell_type": "markdown",
   "metadata": {},
   "source": [
    "#### Question 2:\n",
    "#### Write a program to compute the frequency of the words from the input. The output should output after sorting the key alphanumerically. \n",
    "#### Suppose the following input is supplied to the program:\n",
    "#### New to Python or choosing between Python 2 and Python 3? Read Python 2 or Python 3.\n",
    "#### Then, the output should be:\n",
    "#### 2:2\n",
    "#### 3.:1\n",
    "#### 3?:1\n",
    "#### New:1\n",
    "#### Python:5\n",
    "#### Read:1\n",
    "#### and:1\n",
    "#### between:1\n",
    "#### choosing:1\n",
    "#### or:2\n",
    "#### to:1"
   ]
  },
  {
   "cell_type": "code",
   "execution_count": 6,
   "metadata": {},
   "outputs": [
    {
     "name": "stdout",
     "output_type": "stream",
     "text": [
      "2 : 2\n",
      "3. : 1\n",
      "3? : 1\n",
      "New : 1\n",
      "Python : 5\n",
      "Read : 1\n",
      "and : 1\n",
      "between : 1\n",
      "choosing : 1\n",
      "or : 2\n",
      "to : 1\n"
     ]
    }
   ],
   "source": [
    "string = 'New to Python or choosing between Python 2 and Python 3? Read Python 2 or Python 3.'.split()\n",
    "lett_freq = [[i,string.count(i)] for i in string]\n",
    "un_freq = []\n",
    "for i in lett_freq:\n",
    "    if i not in un_freq:\n",
    "        un_freq.append(i)\n",
    "un_freq.sort(key = lambda x : x[0])\n",
    "for i,j in un_freq:\n",
    "    print(i,':',j)"
   ]
  },
  {
   "cell_type": "markdown",
   "metadata": {},
   "source": [
    "#### Question 3:\n",
    "\n",
    "#### Define a class Person and its two child classes: Male and Female. All classes have a method &quot;getGender&quot; which can print &quot;Male&quot; for Male class and &quot;Female&quot; for Female class."
   ]
  },
  {
   "cell_type": "code",
   "execution_count": 4,
   "metadata": {},
   "outputs": [
    {
     "name": "stdout",
     "output_type": "stream",
     "text": [
      "Male\n",
      "\n",
      "Female\n"
     ]
    }
   ],
   "source": [
    "class Person:\n",
    "    def getGender(self):\n",
    "        pass\n",
    "\n",
    "class Male(Person):\n",
    "    def getGender(self):\n",
    "        print('Male')\n",
    "        \n",
    "        \n",
    "class Female(Person):\n",
    "    def getGender(self):\n",
    "        print('Female')\n",
    "        \n",
    "        \n",
    "m = Male()\n",
    "f = Female()\n",
    "m.getGender()\n",
    "print()\n",
    "f.getGender()    "
   ]
  },
  {
   "cell_type": "markdown",
   "metadata": {},
   "source": [
    "#### Question 4:\n",
    "#### Please write a program to generate all sentences where subject is in [\"I\",\"You\"] and verb is in [\"Play\",\"Love\"] and the object is in [\"Hockey\",\"Football\"]."
   ]
  },
  {
   "cell_type": "code",
   "execution_count": 5,
   "metadata": {},
   "outputs": [
    {
     "name": "stdout",
     "output_type": "stream",
     "text": [
      "Sentences are : \n",
      "\n",
      "I Play Hockey\n",
      "I Play Football\n",
      "I Love Hockey\n",
      "I Love Football\n",
      "You Play Hockey\n",
      "You Play Football\n",
      "You Love Hockey\n",
      "You Love Football\n"
     ]
    }
   ],
   "source": [
    "sub = ['I','You']\n",
    "ver = ['Play','Love']\n",
    "obj = ['Hockey','Football']\n",
    "print('Sentences are : \\n')\n",
    "for i in sub:\n",
    "    for j in ver:\n",
    "        for k in obj:\n",
    "            print(i,j,k)"
   ]
  },
  {
   "cell_type": "markdown",
   "metadata": {},
   "source": [
    "#### Question 5:\n",
    "#### Please write a program to compress and decompress the string \"hello world!hello world!hello world!hello world!\"."
   ]
  },
  {
   "cell_type": "code",
   "execution_count": 56,
   "metadata": {},
   "outputs": [
    {
     "name": "stdout",
     "output_type": "stream",
     "text": [
      "After compress the string :  hello world!\n",
      "After decompress the string :  hello world!hello world!hello world!hello world!\n"
     ]
    }
   ],
   "source": [
    "my_str = \"hello world!hello world!hello world!hello world!\"\n",
    "my_set = my_str.split('!')\n",
    "my_list = list(set(my_set))\n",
    "\n",
    "print('After compress the string : ',my_list[1]+'!')\n",
    "\n",
    "decompr = my_list[1]+'!'\n",
    "print('After decompress the string : ',decompr*(len(my_set)-1))"
   ]
  },
  {
   "cell_type": "markdown",
   "metadata": {},
   "source": [
    "#### Question 6:\n",
    "#### Please write a binary search function which searches an item in a sorted list. The function should return the index of element to be searched in the list."
   ]
  },
  {
   "cell_type": "code",
   "execution_count": 28,
   "metadata": {},
   "outputs": [
    {
     "name": "stdout",
     "output_type": "stream",
     "text": [
      "Enter elements in sorted order : 29 30 31 32 33 34 35 36\n",
      "Enter key element to be searched : 35\n",
      "Index of the key element is :  6\n"
     ]
    }
   ],
   "source": [
    "def binary_search(lis,key,low,high):\n",
    "    if high>=low:\n",
    "        mid = (low+high)//2\n",
    "        if lis[mid]==key:\n",
    "            return mid\n",
    "        elif lis[mid]>key:\n",
    "            return binary_search(lis,key,low,mid-1)\n",
    "        else:\n",
    "            return binary_search(lis,key,mid+1,high)\n",
    "    else:\n",
    "        return 'Element is not found'\n",
    "\n",
    "lis = [int(i) for i in input('Enter elements in sorted order : ').split()]\n",
    "key = int(input('Enter key element to be searched : '))\n",
    "low = 0\n",
    "high = len(lis)-1\n",
    "print('Index of the key element is : ',binary_search(lis,key,low,high))"
   ]
  }
 ],
 "metadata": {
  "kernelspec": {
   "display_name": "Python 3",
   "language": "python",
   "name": "python3"
  },
  "language_info": {
   "codemirror_mode": {
    "name": "ipython",
    "version": 3
   },
   "file_extension": ".py",
   "mimetype": "text/x-python",
   "name": "python",
   "nbconvert_exporter": "python",
   "pygments_lexer": "ipython3",
   "version": "3.8.8"
  }
 },
 "nbformat": 4,
 "nbformat_minor": 4
}
