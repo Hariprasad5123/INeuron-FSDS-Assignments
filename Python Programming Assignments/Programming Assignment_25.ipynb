{
 "cells": [
  {
   "cell_type": "markdown",
   "metadata": {},
   "source": [
    "#### Question1\n",
    "#### Create a function that takes three integer arguments (a, b, c) and returns the amount of integers which are of equal value.\n",
    "#### Examples\n",
    "#### equal(3, 4, 3) ➞ 2\n",
    "#### equal(1, 1, 1) ➞ 3\n",
    "#### equal(3, 4, 1) ➞ 0\n",
    "#### Notes\n",
    "#### Your function must return 0, 2 or 3."
   ]
  },
  {
   "cell_type": "code",
   "execution_count": 3,
   "metadata": {},
   "outputs": [
    {
     "name": "stdout",
     "output_type": "stream",
     "text": [
      "equal(3, 4, 3) --->  2\n",
      "\n",
      "equal(1, 1, 1) --->  3\n",
      "\n",
      "equal(3, 4, 1) --->  0\n"
     ]
    }
   ],
   "source": [
    "def equal(a,b,c):\n",
    "    l = [a,b,c]\n",
    "    for i in l:\n",
    "        if l.count(i)>1:\n",
    "            return l.count(i)\n",
    "    return 0\n",
    "\n",
    "print('equal(3, 4, 3) ---> ',equal(3, 4, 3))\n",
    "print()\n",
    "print('equal(1, 1, 1) ---> ',equal(1, 1, 1))\n",
    "print()\n",
    "print('equal(3, 4, 1) ---> ',equal(3, 4, 1))"
   ]
  },
  {
   "cell_type": "markdown",
   "metadata": {},
   "source": [
    "#### Question2\n",
    "#### Write a function that converts a dictionary into a list of keys-values tuples.\n",
    "#### Examples\n",
    "#### dict_to_list({\n",
    "#### &quot;D&quot;: 1,\n",
    "#### &quot;B&quot;: 2,\n",
    "#### &quot;C&quot;: 3\n",
    "#### }) ➞ [(&quot;B&quot;, 2), (&quot;C&quot;, 3), (&quot;D&quot;, 1)]\n",
    "#### dict_to_list({\n",
    "#### &quot;likes&quot;: 2,\n",
    "#### &quot;dislikes&quot;: 3,\n",
    "#### &quot;followers&quot;: 10\n",
    "#### }) ➞ [(&quot;dislikes&quot;, 3), (&quot;followers&quot;, 10), (&quot;likes&quot;, 2)]\n",
    "#### Notes\n",
    "#### Return the elements in the list in alphabetical order."
   ]
  },
  {
   "cell_type": "code",
   "execution_count": 7,
   "metadata": {},
   "outputs": [
    {
     "name": "stdout",
     "output_type": "stream",
     "text": [
      "dict_to_list({\"D\":1,\"B\":2,\"C\":3}) --->  [('B', 2), ('C', 3), ('D', 1)]\n",
      "\n",
      "dict_to_list({\"likes\": 2, \"dislikes\": 3, \"followers\": 10}) --->  [('dislikes', 3), ('followers', 10), ('likes', 2)]\n"
     ]
    }
   ],
   "source": [
    "def dict_to_list(d):\n",
    "    return sorted(d.items(),key = lambda x : x[0])\n",
    "\n",
    "print('dict_to_list({\"D\":1,\"B\":2,\"C\":3}) ---> ',dict_to_list({'D':1,'B':2,'C':3}))\n",
    "print()\n",
    "print('dict_to_list({\"likes\": 2, \"dislikes\": 3, \"followers\": 10}) ---> ',dict_to_list({\"likes\": 2, \"dislikes\": 3,\"followers\": 10}))"
   ]
  },
  {
   "cell_type": "markdown",
   "metadata": {},
   "source": [
    "#### Question3\n",
    "#### Write a function that creates a dictionary with each (key, value) pair being the (lower case, upper case) versions of a letter, respectively.\n",
    "#### Examples\n",
    "#### mapping([&quot;p&quot;, &quot;s&quot;]) ➞ { &quot;p&quot;: &quot;P&quot;, &quot;s&quot;: &quot;S&quot; }\n",
    "#### mapping([&quot;a&quot;, &quot;b&quot;, &quot;c&quot;]) ➞ { &quot;a&quot;: &quot;A&quot;, &quot;b&quot;: &quot;B&quot;, &quot;c&quot;: &quot;C&quot; }\n",
    "#### mapping([&quot;a&quot;, &quot;v&quot;, &quot;y&quot;, &quot;z&quot;]) ➞ { &quot;a&quot;: &quot;A&quot;, &quot;v&quot;: &quot;V&quot;, &quot;y&quot;: &quot;Y&quot;, &quot;z&quot;: &quot;Z&quot; }\n",
    "#### Notes\n",
    "#### All of the letters in the input list will always be lowercase."
   ]
  },
  {
   "cell_type": "code",
   "execution_count": 9,
   "metadata": {},
   "outputs": [
    {
     "name": "stdout",
     "output_type": "stream",
     "text": [
      "mapping([\"p\", \"s\"]) --->  {'p': 'P', 's': 'S'}\n",
      "\n",
      "mapping([\"a\", \"b\", \"c\"]) --->  {'a': 'A', 'b': 'B', 'c': 'C'}\n",
      "\n",
      "mapping([\"a\", \"v\", \"y\", \"z\"]) --->  {'a': 'A', 'v': 'V', 'y': 'Y', 'z': 'Z'}\n"
     ]
    }
   ],
   "source": [
    "def mapping(li):\n",
    "    return {i:i.upper() for i in li}\n",
    "\n",
    "print('mapping([\"p\", \"s\"]) ---> ',mapping([\"p\", \"s\"]))\n",
    "print()\n",
    "print('mapping([\"a\", \"b\", \"c\"]) ---> ',mapping([\"a\", \"b\", \"c\"]))\n",
    "print()\n",
    "print('mapping([\"a\", \"v\", \"y\", \"z\"]) ---> ',mapping([\"a\", \"v\", \"y\", \"z\"]))"
   ]
  },
  {
   "cell_type": "markdown",
   "metadata": {},
   "source": [
    "#### Question4\n",
    "#### Write a function, that replaces all vowels in a string with a specified vowel.\n",
    "#### Examples\n",
    "#### vow_replace(&quot;apples and bananas&quot;, &quot;u&quot;) ➞ &quot;upplus und bununus&quot;\n",
    "#### vow_replace(&quot;cheese casserole&quot;, &quot;o&quot;) ➞ &quot;chooso cossorolo&quot;\n",
    "#### vow_replace(&quot;stuffed jalapeno poppers&quot;, &quot;e&quot;) ➞ &quot;steffed jelepene peppers&quot;\n",
    "#### Notes\n",
    "#### All words will be lowercase. Y is not considered a vowel."
   ]
  },
  {
   "cell_type": "code",
   "execution_count": 12,
   "metadata": {},
   "outputs": [
    {
     "name": "stdout",
     "output_type": "stream",
     "text": [
      "vow_replace(\"apples and bananas\", \"u\") --->  upplus und bununus\n",
      "\n",
      "vow_replace(\"cheese casserole\", \"o\") --->  chooso cossorolo\n",
      "\n",
      "vow_replace(\"stuffed jalapeno poppers\", \"e\") --->  steffed jelepene peppers\n"
     ]
    }
   ],
   "source": [
    "def vow_replace(str1,ch):\n",
    "    vow = ['a','e','i','o','u']\n",
    "    return  ''.join(ch if i in vow else i for i in str1.lower())\n",
    "        \n",
    "print('vow_replace(\"apples and bananas\", \"u\") ---> ',vow_replace(\"apples and bananas\", \"u\"))\n",
    "print()\n",
    "print('vow_replace(\"cheese casserole\", \"o\") ---> ',vow_replace(\"cheese casserole\", \"o\"))\n",
    "print()\n",
    "print('vow_replace(\"stuffed jalapeno poppers\", \"e\") ---> ',vow_replace(\"stuffed jalapeno poppers\", \"e\"))"
   ]
  },
  {
   "cell_type": "markdown",
   "metadata": {},
   "source": [
    "#### Question5\n",
    "#### Create a function that takes a string as input and capitalizes a letter if its ASCII code is even and returns its lower case version if its ASCII code is odd.\n",
    "#### Examples\n",
    "#### ascii_capitalize(&quot;to be or not to be!&quot;) ➞ &quot;To Be oR NoT To Be!&quot;\n",
    "#### ascii_capitalize(&quot;THE LITTLE MERMAID&quot;) ➞ &quot;THe LiTTLe\n",
    "#### meRmaiD&quot;\n",
    "#### ascii_capitalize(&quot;Oh what a beautiful morning.&quot;) ➞ &quot;oH wHaT a BeauTiFuL moRNiNg.&quot;"
   ]
  },
  {
   "cell_type": "code",
   "execution_count": 15,
   "metadata": {},
   "outputs": [
    {
     "name": "stdout",
     "output_type": "stream",
     "text": [
      "ascii_capitalize(\"to be or not to be!\")  --->  To Be oR NoT To Be!\n",
      "\n",
      "ascii_capitalize(\"THE LITTLE MERMAID\") --->  THe LiTTLe meRmaiD\n",
      "\n",
      "ascii_capitalize(\"Oh what a beautiful morning.\") --->  oH wHaT a BeauTiFuL moRNiNg.\n"
     ]
    }
   ],
   "source": [
    "def ascii_capitalize(my_str):\n",
    "    return ''.join([i.upper() if not ord(i)%2 else i.lower() for i in my_str])\n",
    "\n",
    "print('ascii_capitalize(\"to be or not to be!\")  ---> ',ascii_capitalize(\"to be or not to be!\"))\n",
    "print()\n",
    "print('ascii_capitalize(\"THE LITTLE MERMAID\") ---> ',ascii_capitalize(\"THE LITTLE MERMAID\"))\n",
    "print()\n",
    "print('ascii_capitalize(\"Oh what a beautiful morning.\") ---> ',ascii_capitalize(\"Oh what a beautiful morning.\"))"
   ]
  }
 ],
 "metadata": {
  "kernelspec": {
   "display_name": "Python 3",
   "language": "python",
   "name": "python3"
  },
  "language_info": {
   "codemirror_mode": {
    "name": "ipython",
    "version": 3
   },
   "file_extension": ".py",
   "mimetype": "text/x-python",
   "name": "python",
   "nbconvert_exporter": "python",
   "pygments_lexer": "ipython3",
   "version": "3.8.8"
  }
 },
 "nbformat": 4,
 "nbformat_minor": 4
}
