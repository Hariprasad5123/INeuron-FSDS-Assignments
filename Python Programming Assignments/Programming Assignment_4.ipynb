{
 "cells": [
  {
   "cell_type": "markdown",
   "metadata": {},
   "source": [
    "#### 1. Write a Python Program to Find the Factorial of a Number?"
   ]
  },
  {
   "cell_type": "code",
   "execution_count": 1,
   "metadata": {},
   "outputs": [
    {
     "name": "stdout",
     "output_type": "stream",
     "text": [
      "Enter number : 5\n",
      "Factorial of  5 is  120\n"
     ]
    }
   ],
   "source": [
    "number = int(input('Enter number : '))\n",
    "fact = 1\n",
    "for i in range(1,number+1):\n",
    "    fact*=i\n",
    "print('Factorial of ',number,'is ',fact)"
   ]
  },
  {
   "cell_type": "markdown",
   "metadata": {},
   "source": [
    "#### 2. Write a Python Program to Display the multiplication Table?"
   ]
  },
  {
   "cell_type": "code",
   "execution_count": 3,
   "metadata": {},
   "outputs": [
    {
     "name": "stdout",
     "output_type": "stream",
     "text": [
      "Enter number : 15\n",
      "\n",
      "15 * 1 = 15\n",
      "15 * 2 = 30\n",
      "15 * 3 = 45\n",
      "15 * 4 = 60\n",
      "15 * 5 = 75\n",
      "15 * 6 = 90\n",
      "15 * 7 = 105\n",
      "15 * 8 = 120\n",
      "15 * 9 = 135\n",
      "15 * 10 = 150\n"
     ]
    }
   ],
   "source": [
    "num = int(input('Enter number : '))\n",
    "print()\n",
    "for i in range(1,11):\n",
    "    print(num,'*',i,'=',num*i)"
   ]
  },
  {
   "cell_type": "markdown",
   "metadata": {},
   "source": [
    "#### 3. Write a Python Program to Print the Fibonacci sequence?"
   ]
  },
  {
   "cell_type": "code",
   "execution_count": 5,
   "metadata": {},
   "outputs": [
    {
     "name": "stdout",
     "output_type": "stream",
     "text": [
      "Enter range : 8\n",
      "0 1 1 2 3 5 8 13 "
     ]
    }
   ],
   "source": [
    "n = int(input('Enter range : '))\n",
    "a,b = 0,1\n",
    "for i in range(n):\n",
    "    print(a,end=' ')\n",
    "    a,b = b,a+b"
   ]
  },
  {
   "cell_type": "markdown",
   "metadata": {},
   "source": [
    "#### 4. Write a Python Program to Check Armstrong Number?"
   ]
  },
  {
   "cell_type": "code",
   "execution_count": 14,
   "metadata": {},
   "outputs": [
    {
     "name": "stdout",
     "output_type": "stream",
     "text": [
      "Enter number : 407\n",
      "407\n",
      "It is armstrong number\n"
     ]
    }
   ],
   "source": [
    "numb = input('Enter number : ')\n",
    "leng = len(numb)\n",
    "numb1 = 0\n",
    "\n",
    "for i in range(leng):\n",
    "    numb1 = numb1 + (int(numb[i])**leng)\n",
    "\n",
    "print(numb1)\n",
    "if numb1==int(numb):\n",
    "    print('It is armstrong number')\n",
    "else:\n",
    "    print('It is not armstrong number')"
   ]
  },
  {
   "cell_type": "markdown",
   "metadata": {},
   "source": [
    "#### 5. Write a Python Program to Find Armstrong Number in an Interval?"
   ]
  },
  {
   "cell_type": "code",
   "execution_count": 19,
   "metadata": {},
   "outputs": [
    {
     "name": "stdout",
     "output_type": "stream",
     "text": [
      "Enter starting range : 100\n",
      "Enter ending range : 1000\n",
      "153 370 371 407 "
     ]
    }
   ],
   "source": [
    "def armStrong(n):\n",
    "    leng = len(n)\n",
    "    n1 = 0\n",
    "    for i in range(leng):\n",
    "        n1 = n1 + (int(n[i])**leng)\n",
    "    if n1==int(n):\n",
    "        return True\n",
    "    \n",
    "start = int(input('Enter starting range : '))\n",
    "end = int(input('Enter ending range : '))\n",
    "for i in range(start,end+1):\n",
    "    if armStrong(str(i)):\n",
    "        print(i,end=' ')\n",
    "    "
   ]
  },
  {
   "cell_type": "markdown",
   "metadata": {},
   "source": [
    "#### 6. Write a Python Program to Find the Sum of Natural Numbers?"
   ]
  },
  {
   "cell_type": "code",
   "execution_count": 29,
   "metadata": {},
   "outputs": [
    {
     "name": "stdout",
     "output_type": "stream",
     "text": [
      "Enter number : 5\n",
      "Sum of natural numbers :  15\n"
     ]
    }
   ],
   "source": [
    "nu = int(input('Enter number : '))\n",
    "\n",
    "print('Sum of natural numbers : ',int((nu*(nu+1))/2))"
   ]
  },
  {
   "cell_type": "code",
   "execution_count": null,
   "metadata": {},
   "outputs": [],
   "source": []
  }
 ],
 "metadata": {
  "kernelspec": {
   "display_name": "Python 3",
   "language": "python",
   "name": "python3"
  },
  "language_info": {
   "codemirror_mode": {
    "name": "ipython",
    "version": 3
   },
   "file_extension": ".py",
   "mimetype": "text/x-python",
   "name": "python",
   "nbconvert_exporter": "python",
   "pygments_lexer": "ipython3",
   "version": "3.8.8"
  }
 },
 "nbformat": 4,
 "nbformat_minor": 4
}
