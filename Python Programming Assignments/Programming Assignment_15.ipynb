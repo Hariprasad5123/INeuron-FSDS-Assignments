{
 "cells": [
  {
   "cell_type": "markdown",
   "metadata": {},
   "source": [
    "#### Question 1:\n",
    "#### Please write a program using generator to print the numbers which can be divisible by 5 and 7 between 0 and n in comma separated form while n is input by console.\n",
    "#### Example:\n",
    "#### If the following n is given as input to the program:\n",
    "#### 100\n",
    "#### Then, the output of the program should be:\n",
    "#### 0,35,70"
   ]
  },
  {
   "cell_type": "code",
   "execution_count": 4,
   "metadata": {},
   "outputs": [
    {
     "name": "stdout",
     "output_type": "stream",
     "text": [
      "Enter range : 500\n",
      "0 35 70 105 140 175 210 245 280 315 350 385 420 455 490 "
     ]
    }
   ],
   "source": [
    "def factors_of_5_and_7(n1):\n",
    "    for i in range(0,n1):\n",
    "        if not i%5 and not i%7:\n",
    "            yield i\n",
    "\n",
    "n1 = int(input('Enter range : '))\n",
    "for i in factors_of_5_and_7(n1):\n",
    "    print(i,end=' ')"
   ]
  },
  {
   "cell_type": "markdown",
   "metadata": {},
   "source": [
    "#### Question 2:\n",
    "#### Please write a program using generator to print the even numbers between 0 and n in comma separated form while n is input by console.\n",
    "#### Example:\n",
    "#### If the following n is given as input to the program:\n",
    "#### 10\n",
    "#### Then, the output of the program should be:\n",
    "#### 0,2,4,6,8,10"
   ]
  },
  {
   "cell_type": "code",
   "execution_count": 5,
   "metadata": {},
   "outputs": [
    {
     "name": "stdout",
     "output_type": "stream",
     "text": [
      "Enter range : 20\n",
      "0 2 4 6 8 10 12 14 16 18 "
     ]
    }
   ],
   "source": [
    "def even(n2):\n",
    "    for i in range(0,n2):\n",
    "        if not i%2:\n",
    "            yield i\n",
    "\n",
    "n2 = int(input('Enter range : '))\n",
    "for i in even(n2):\n",
    "    print(i,end=' ')"
   ]
  },
  {
   "cell_type": "markdown",
   "metadata": {},
   "source": [
    "#### Question 3:\n",
    "#### The Fibonacci Sequence is computed based on the following formula:\n",
    "#### f(n)=0 if n=0\n",
    "#### f(n)=1 if n=1\n",
    "#### f(n)=f(n-1)+f(n-2) if n&gt;1\n",
    "#### Please write a program using list comprehension to print the Fibonacci Sequence in comma separated form with a given n input by console.\n",
    "#### Example:\n",
    "#### If the following n is given as input to the program:\n",
    "#### 7\n",
    "\n",
    "#### Then, the output of the program should be:\n",
    "#### 0,1,1,2,3,5,8,13"
   ]
  },
  {
   "cell_type": "code",
   "execution_count": 29,
   "metadata": {},
   "outputs": [
    {
     "name": "stdout",
     "output_type": "stream",
     "text": [
      "Enter range : 10\n",
      "0,1,1,2,3,5,8,13,21,34,55\n"
     ]
    }
   ],
   "source": [
    "n3 = int(input('Enter range : '))\n",
    "fib = ['0','1']\n",
    "[fib.append(str(int(fib[i-2])+int(fib[i-1]))) for i in range(2,n3+1)]\n",
    "print(','.join(fib[:n3+1]))"
   ]
  },
  {
   "cell_type": "markdown",
   "metadata": {},
   "source": [
    "#### Question 4:\n",
    "#### Assuming that we have some email addresses in the &quot;username@companyname.com&quot; format, please write program to print the user name of a given email address. Both user names and company names are composed of letters only.\n",
    "#### Example:\n",
    "#### If the following email address is given as input to the program:\n",
    "#### john@google.com\n",
    "#### Then, the output of the program should be:\n",
    "#### john"
   ]
  },
  {
   "cell_type": "code",
   "execution_count": 30,
   "metadata": {},
   "outputs": [
    {
     "name": "stdout",
     "output_type": "stream",
     "text": [
      "Enter mail Id : annahariprasad@gmail.com\n",
      "annahariprasad\n"
     ]
    }
   ],
   "source": [
    "name,com = input('Enter mail Id : ').split('@')\n",
    "print(name)"
   ]
  },
  {
   "cell_type": "markdown",
   "metadata": {},
   "source": [
    "#### Question 5:\n",
    "#### Define a class named Shape and its subclass Square. The Square class has an init function which takes a length as argument. Both classes have a area function which can print the area of the shape where Shape&#39;s area is 0 by default."
   ]
  },
  {
   "cell_type": "code",
   "execution_count": 33,
   "metadata": {},
   "outputs": [
    {
     "name": "stdout",
     "output_type": "stream",
     "text": [
      "Area of a square :  36\n",
      "Default area of shape is 0\n"
     ]
    }
   ],
   "source": [
    "class Shape:\n",
    "    def area(self):\n",
    "        print('Default area of shape is 0')\n",
    "\n",
    "class Square(Shape):\n",
    "    def __init__(self,leng):\n",
    "        self.leng = leng\n",
    "        \n",
    "    def area(self):\n",
    "        print('Area of a square : ',self.leng**2)\n",
    "        super().area()\n",
    "        \n",
    "s = Square(6)\n",
    "s.area()"
   ]
  }
 ],
 "metadata": {
  "kernelspec": {
   "display_name": "Python 3",
   "language": "python",
   "name": "python3"
  },
  "language_info": {
   "codemirror_mode": {
    "name": "ipython",
    "version": 3
   },
   "file_extension": ".py",
   "mimetype": "text/x-python",
   "name": "python",
   "nbconvert_exporter": "python",
   "pygments_lexer": "ipython3",
   "version": "3.8.8"
  }
 },
 "nbformat": 4,
 "nbformat_minor": 4
}
