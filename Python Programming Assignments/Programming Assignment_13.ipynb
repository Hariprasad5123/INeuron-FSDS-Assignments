{
 "cells": [
  {
   "cell_type": "markdown",
   "metadata": {},
   "source": [
    "#### Question 1 :\n",
    "####  Write a program that calculates and prints the value according to the given formula:\n",
    "#### Q = Square root of [(2 * C * D)/H]\n",
    "#### Following are the fixed values of C and H:\n",
    "#### C is 50. H is 30.\n",
    "#### D is the variable whose values should be input to your program in a comma-separated\n",
    "#### sequence.\n",
    "#### Example\n",
    "#### Let us assume the following comma separated input sequence is given to the program:\n",
    "#### 100,150,180\n",
    "#### The output of the program should be:\n",
    "#### 18,22,24"
   ]
  },
  {
   "cell_type": "code",
   "execution_count": 18,
   "metadata": {},
   "outputs": [
    {
     "name": "stdout",
     "output_type": "stream",
     "text": [
      "18,22,24,"
     ]
    }
   ],
   "source": [
    "from math import sqrt\n",
    "C,H = 50,30\n",
    "D = [100,150,180]\n",
    "for i in D:\n",
    "    print(int(sqrt((2*C*i)/H)),end=',')\n",
    "    "
   ]
  },
  {
   "cell_type": "markdown",
   "metadata": {},
   "source": [
    "#### Question 2 :\n",
    "#### Write a program which takes 2 digits, X,Y as input and generates a 2-dimensional array. The element value in the i-th row and j-th column of the array should be i*j.\n",
    "#### Note: i=0,1.., X-1; j=0,1,¡Y-1.\n",
    "#### Example\n",
    "#### Suppose the following inputs are given to the program:\n",
    "#### 3,5\n",
    "#### Then, the output of the program should be:\n",
    "#### [[0, 0, 0, 0, 0], [0, 1, 2, 3, 4], [0, 2, 4, 6, 8]]"
   ]
  },
  {
   "cell_type": "code",
   "execution_count": 14,
   "metadata": {},
   "outputs": [
    {
     "name": "stdout",
     "output_type": "stream",
     "text": [
      "Enter x and y values : 3,5\n",
      "\n",
      "[[0, 0, 0, 0, 0], [0, 1, 2, 3, 4], [0, 2, 4, 6, 8]]\n"
     ]
    }
   ],
   "source": [
    "x,y = input('Enter x and y values : ').split(',')\n",
    "m = []\n",
    "for i in range(int(x)):\n",
    "    x = []\n",
    "    for j in range(int(y)):\n",
    "        x.append(i*j)\n",
    "    m.append(x)\n",
    "print()\n",
    "print(m)"
   ]
  },
  {
   "cell_type": "markdown",
   "metadata": {},
   "source": [
    "#### Question 3 :\n",
    "#### Write a program that accepts a comma separated sequence of words as input and prints the words in a comma-separated sequence after sorting them alphabetically.\n",
    "#### Suppose the following input is supplied to the program:\n",
    "#### without,hello,bag,world\n",
    "#### Then, the output should be:\n",
    "#### bag,hello,without,world"
   ]
  },
  {
   "cell_type": "code",
   "execution_count": 7,
   "metadata": {},
   "outputs": [
    {
     "name": "stdout",
     "output_type": "stream",
     "text": [
      "without,hello,bag,world\n",
      "\n",
      "bag,hello,without,world\n"
     ]
    }
   ],
   "source": [
    "s = input().split(',')\n",
    "print()\n",
    "print(*sorted(s),sep=',')"
   ]
  },
  {
   "cell_type": "markdown",
   "metadata": {},
   "source": [
    "#### Question 4 :\n",
    "#### Write a program that accepts a sequence of whitespace separated words as input and prints the words after removing all duplicate words and sorting them alphanumerically.\n",
    "#### Suppose the following input is supplied to the program:\n",
    "#### hello world and practice makes perfect and hello world again\n",
    "#### Then, the output should be:\n",
    "#### again and hello makes perfect practice world"
   ]
  },
  {
   "cell_type": "code",
   "execution_count": 9,
   "metadata": {},
   "outputs": [
    {
     "name": "stdout",
     "output_type": "stream",
     "text": [
      "hello world and practice makes perfect and hello world again\n",
      "\n",
      "again and hello makes perfect practice world\n"
     ]
    }
   ],
   "source": [
    "st = input().split()\n",
    "l = []\n",
    "for i in st:\n",
    "    if i not in l:\n",
    "        l.append(i)\n",
    "        \n",
    "print()\n",
    "print(*sorted(l))"
   ]
  },
  {
   "cell_type": "markdown",
   "metadata": {},
   "source": [
    "#### Question 5 :\n",
    "#### Write a program that accepts a sentence and calculate the number of letters and digits.\n",
    "#### Suppose the following input is supplied to the program:\n",
    "#### hello world! 123\n",
    "#### Then, the output should be:\n",
    "#### LETTERS 10\n",
    "#### DIGITS 3"
   ]
  },
  {
   "cell_type": "code",
   "execution_count": 14,
   "metadata": {},
   "outputs": [
    {
     "name": "stdout",
     "output_type": "stream",
     "text": [
      "hello world! 123\n",
      "LETTERS  10\n",
      "DIGITS  3\n"
     ]
    }
   ],
   "source": [
    "str1 = input()\n",
    "ac,dc=0,0\n",
    "for i in str1:\n",
    "    if i.isalpha():\n",
    "        ac+=1\n",
    "    if i.isnumeric():\n",
    "        dc+=1\n",
    "        \n",
    "print('LETTERS ',ac)\n",
    "print('DIGITS ',dc)"
   ]
  },
  {
   "cell_type": "markdown",
   "metadata": {},
   "source": [
    "#### Question 6 :\n",
    "#### A website requires the users to input username and password to register. Write a program to\n",
    "#### check the validity of password input by users.\n",
    "#### Following are the criteria for checking the password:\n",
    "#### 1. At least 1 letter between [a-z]\n",
    "#### 2. At least 1 number between [0-9]\n",
    "#### 1. At least 1 letter between [A-Z]\n",
    "#### 3. At least 1 character from [$#@]\n",
    "#### 4. Minimum length of transaction password: 6\n",
    "#### 5. Maximum length of transaction password: 12\n",
    "#### Your program should accept a sequence of comma separated passwords and will check them\n",
    "#### according to the above criteria. Passwords that match the criteria are to be printed, each\n",
    "#### separated by a comma.\n",
    "#### Example\n",
    "#### If the following passwords are given as input to the program:\n",
    "#### ABd1234@1,a F1#,2w3E*,2We3345\n",
    "#### Then, the output of the program should be:\n",
    "#### ABd1234@1"
   ]
  },
  {
   "cell_type": "code",
   "execution_count": 12,
   "metadata": {},
   "outputs": [
    {
     "name": "stdout",
     "output_type": "stream",
     "text": [
      "Enter passwords : ABd1234@1,a F1#,2w3E*,2We3345\n",
      "Valid passwords are : \n",
      "ABd1234@1 "
     ]
    }
   ],
   "source": [
    "def checkPassword(password):\n",
    "    spec_ch =['$', '#','@']\n",
    "    if len(password)>5 and len(password)<13:\n",
    "        if any(i.islower() for i in password):\n",
    "            if any(i.isupper() for i in password):\n",
    "                if any(i.isdigit() for i in password):\n",
    "                    if any(i for i in password if i in spec_ch):\n",
    "                        return True\n",
    "                    return False\n",
    "                return False\n",
    "            return False\n",
    "        return False\n",
    "    return False\n",
    "        \n",
    "\n",
    "passwords = input('Enter passwords : ').split(',')\n",
    "print('Valid passwords are : ')\n",
    "for i in passwords:\n",
    "    if checkPassword(i):\n",
    "        print(i,end=' ')\n",
    "\n"
   ]
  }
 ],
 "metadata": {
  "kernelspec": {
   "display_name": "Python 3",
   "language": "python",
   "name": "python3"
  },
  "language_info": {
   "codemirror_mode": {
    "name": "ipython",
    "version": 3
   },
   "file_extension": ".py",
   "mimetype": "text/x-python",
   "name": "python",
   "nbconvert_exporter": "python",
   "pygments_lexer": "ipython3",
   "version": "3.8.8"
  }
 },
 "nbformat": 4,
 "nbformat_minor": 4
}
