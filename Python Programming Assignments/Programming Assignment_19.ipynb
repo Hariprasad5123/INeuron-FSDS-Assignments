{
 "cells": [
  {
   "cell_type": "markdown",
   "metadata": {},
   "source": [
    "#### Question1\n",
    "#### Create a function that takes a string and returns a string in which each character is repeated once.\n",
    "#### Examples\n",
    "#### double_char(&quot;String&quot;) ➞ &quot;SSttrriinngg&quot;\n",
    "#### double_char(&quot;Hello World!&quot;) ➞ &quot;HHeelllloo WWoorrlldd!!&quot;\n",
    "#### double_char(&quot;1234!_ &quot;) ➞ &quot;11223344!!__ &quot;"
   ]
  },
  {
   "cell_type": "code",
   "execution_count": 1,
   "metadata": {},
   "outputs": [
    {
     "name": "stdout",
     "output_type": "stream",
     "text": [
      "double_char(\"String\") --->  SSttrriinngg\n",
      "double_char(\"Hello World!\") --->  HHeelllloo  WWoorrlldd!!\n",
      "double_char(\"1234!_ \") --->  11223344!!__  \n"
     ]
    }
   ],
   "source": [
    "def double_char(my_str):\n",
    "    s = ''\n",
    "    for i in my_str:\n",
    "        s+=(i*2)\n",
    "    return s\n",
    "\n",
    "print('double_char(\"String\") ---> ',double_char(\"String\"))\n",
    "print('double_char(\"Hello World!\") ---> ',double_char(\"Hello World!\"))\n",
    "print('double_char(\"1234!_ \") ---> ',double_char(\"1234!_ \"))"
   ]
  },
  {
   "cell_type": "markdown",
   "metadata": {},
   "source": [
    "#### Question2\n",
    "#### Create a function that reverses a boolean value and returns the string &quot;boolean expected&quot; if another variable type is given.\n",
    "#### Examples\n",
    "#### reverse(True) ➞ False\n",
    "#### reverse(False) ➞ True\n",
    "#### reverse(0) ➞ &quot;boolean expected&quot;\n",
    "#### reverse(None) ➞ &quot;boolean expected&quot;"
   ]
  },
  {
   "cell_type": "code",
   "execution_count": 4,
   "metadata": {},
   "outputs": [
    {
     "name": "stdout",
     "output_type": "stream",
     "text": [
      "reverse(True) --->  False\n",
      "reverse(False) --->  True\n",
      "reverse(0) --->  boolean expected\n",
      "reverse(None) --->  boolean expected\n"
     ]
    }
   ],
   "source": [
    "def reverse(boolean):\n",
    "    if type(boolean) is type(True) :\n",
    "        return not boolean\n",
    "    return 'boolean expected'\n",
    "\n",
    "print('reverse(True) ---> ',reverse(True))\n",
    "print('reverse(False) ---> ',reverse(False))\n",
    "print('reverse(0) ---> ',reverse(0))\n",
    "print('reverse(None) ---> ',reverse(None))"
   ]
  },
  {
   "cell_type": "markdown",
   "metadata": {},
   "source": [
    "#### Question3\n",
    "#### Create a function that returns the thickness (in meters) of a piece of paper after folding it n number of times. The paper starts off with a thickness of 0.5mm.\n",
    "#### Examples\n",
    "#### num_layers(1) ➞ &quot;0.001m&quot;\n",
    "#### # Paper folded once is 1mm (equal to 0.001m)\n",
    "#### num_layers(4) ➞ &quot;0.008m&quot;\n",
    "#### # Paper folded 4 times is 8mm (equal to 0.008m)\n",
    "#### num_layers(21) ➞ &quot;1048.576m&quot;\n",
    "#### # Paper folded 21 times is 1048576mm (equal to 1048.576m)"
   ]
  },
  {
   "cell_type": "code",
   "execution_count": 10,
   "metadata": {},
   "outputs": [
    {
     "name": "stdout",
     "output_type": "stream",
     "text": [
      "num_layers(1) ---> 0.001m\n",
      "num_layers(4) ---> 0.008m\n",
      "num_layers(21) ---> 1048.576m\n"
     ]
    }
   ],
   "source": [
    "def num_layers(folding):\n",
    "    return 0.0005*(2**folding)\n",
    "\n",
    "print('num_layers(1) ---> {}m'.format(num_layers(1)))\n",
    "print('num_layers(4) ---> {}m'.format(num_layers(4)))\n",
    "print('num_layers(21) ---> {}m'.format(num_layers(21)))"
   ]
  },
  {
   "cell_type": "markdown",
   "metadata": {},
   "source": [
    "#### Question4\n",
    "#### Create a function that takes a single string as argument and returns an ordered list containing the indices of all capital letters in the string.\n",
    "#### Examples\n",
    "#### index_of_caps(&quot;eDaBiT&quot;) ➞ [1, 3, 5]\n",
    "#### index_of_caps(&quot;eQuINoX&quot;) ➞ [1, 3, 4, 6]\n",
    "#### index_of_caps(&quot;determine&quot;) ➞ []\n",
    "#### index_of_caps(&quot;STRIKE&quot;) ➞ [0, 1, 2, 3, 4, 5]\n",
    "#### index_of_caps(&quot;sUn&quot;) ➞ [1]"
   ]
  },
  {
   "cell_type": "code",
   "execution_count": 12,
   "metadata": {},
   "outputs": [
    {
     "name": "stdout",
     "output_type": "stream",
     "text": [
      "index_of_caps(\"eDaBiT\") --->  [1, 3, 5]\n",
      "index_of_caps(\"eQuINoX\") --->  [1, 3, 4, 6]\n",
      "index_of_caps(\"determine\") --->  []\n",
      "index_of_caps(\"STRIKE\") --->  [0, 1, 2, 3, 4, 5]\n",
      "index_of_caps(\"sUn\") --->  [1]\n"
     ]
    }
   ],
   "source": [
    "def index_of_caps(st):\n",
    "    l = []\n",
    "    for i in st:\n",
    "        if i.isupper(): l.append(st.index(i))\n",
    "    return l\n",
    "\n",
    "print('index_of_caps(\"eDaBiT\") ---> ',index_of_caps(\"eDaBiT\"))\n",
    "print('index_of_caps(\"eQuINoX\") ---> ',index_of_caps(\"eQuINoX\"))\n",
    "print('index_of_caps(\"determine\") ---> ',index_of_caps(\"determine\"))\n",
    "print('index_of_caps(\"STRIKE\") ---> ',index_of_caps(\"STRIKE\"))\n",
    "print('index_of_caps(\"sUn\") ---> ',index_of_caps(\"sUn\"))\n"
   ]
  },
  {
   "cell_type": "markdown",
   "metadata": {},
   "source": [
    "#### Question5\n",
    "#### Using list comprehensions, create a function that finds all even numbers from 1 to the given number.\n",
    "#### Examples\n",
    "#### find_even_nums(8) ➞ [2, 4, 6, 8]\n",
    "#### find_even_nums(4) ➞ [2, 4]\n",
    "#### find_even_nums(2) ➞ [2]"
   ]
  },
  {
   "cell_type": "code",
   "execution_count": 13,
   "metadata": {},
   "outputs": [
    {
     "name": "stdout",
     "output_type": "stream",
     "text": [
      "find_even_nums(8) --->  [2, 4, 6, 8]\n",
      "find_even_nums(4) --->  [2, 4]\n",
      "find_even_nums(2) --->  [2]\n"
     ]
    }
   ],
   "source": [
    "def find_even_nums(num):\n",
    "    return [i for i in range(1,num+1) if not i%2]\n",
    "\n",
    "print('find_even_nums(8) ---> ',find_even_nums(8))\n",
    "print('find_even_nums(4) ---> ',find_even_nums(4))\n",
    "print('find_even_nums(2) ---> ',find_even_nums(2))"
   ]
  }
 ],
 "metadata": {
  "kernelspec": {
   "display_name": "Python 3",
   "language": "python",
   "name": "python3"
  },
  "language_info": {
   "codemirror_mode": {
    "name": "ipython",
    "version": 3
   },
   "file_extension": ".py",
   "mimetype": "text/x-python",
   "name": "python",
   "nbconvert_exporter": "python",
   "pygments_lexer": "ipython3",
   "version": "3.8.8"
  }
 },
 "nbformat": 4,
 "nbformat_minor": 4
}
