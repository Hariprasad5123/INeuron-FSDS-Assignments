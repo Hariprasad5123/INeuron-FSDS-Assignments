{
 "cells": [
  {
   "cell_type": "markdown",
   "metadata": {},
   "source": [
    "#### 1. Write a Python Program to Find LCM?"
   ]
  },
  {
   "cell_type": "code",
   "execution_count": 8,
   "metadata": {},
   "outputs": [
    {
     "name": "stdout",
     "output_type": "stream",
     "text": [
      "Enter number-1 value : 4\n",
      "Enter number-2 value : 5\n",
      "LCM of given Two numbers :  20\n"
     ]
    }
   ],
   "source": [
    "def gcd(x,y):\n",
    "    while(y):\n",
    "        x,y = y,x%y\n",
    "    return x\n",
    "\n",
    "num_1 = int(input('Enter number-1 value : '))\n",
    "num_2 = int(input('Enter number-2 value : '))\n",
    "print('LCM of given Two numbers : ',(num_1*num_2)//gcd(num_1,num_2))"
   ]
  },
  {
   "cell_type": "markdown",
   "metadata": {},
   "source": [
    "#### 2. Write a Python Program to Find HCF?"
   ]
  },
  {
   "cell_type": "code",
   "execution_count": 9,
   "metadata": {},
   "outputs": [
    {
     "name": "stdout",
     "output_type": "stream",
     "text": [
      "Enter number-1 value : 24\n",
      "Enter number-2 value : 36\n",
      "HCF of 24 and 36 is 12\n"
     ]
    }
   ],
   "source": [
    "num1 = int(input('Enter number-1 value : '))\n",
    "num2 = int(input('Enter number-2 value : '))\n",
    "for i in range(num1+num2,0,-1):\n",
    "    if not num1%i and not num2%i:\n",
    "        print('HCF of',num1,'and',num2,'is',i)\n",
    "        break"
   ]
  },
  {
   "cell_type": "markdown",
   "metadata": {},
   "source": [
    "#### 3. Write a Python Program to Convert Decimal to Binary, Octal and Hexadecimal?"
   ]
  },
  {
   "cell_type": "code",
   "execution_count": 12,
   "metadata": {},
   "outputs": [
    {
     "name": "stdout",
     "output_type": "stream",
     "text": [
      "Enter number : 15\n",
      "Decimal number :  15\n",
      "Binary number :  1111\n",
      "Octal number :  17\n",
      "Hexadecimal number :  F\n"
     ]
    }
   ],
   "source": [
    "n = int(input('Enter number : '))\n",
    "print('Decimal number : ',n)\n",
    "print('Binary number : ',bin(n)[2:])\n",
    "print('Octal number : ',oct(n)[2:])\n",
    "print('Hexadecimal number : ',hex(n)[2:].upper())"
   ]
  },
  {
   "cell_type": "markdown",
   "metadata": {},
   "source": [
    "#### 4. Write a Python Program To Find ASCII value of a character?"
   ]
  },
  {
   "cell_type": "code",
   "execution_count": 3,
   "metadata": {},
   "outputs": [
    {
     "name": "stdout",
     "output_type": "stream",
     "text": [
      "H\n",
      "Ascii value of H is  72\n"
     ]
    }
   ],
   "source": [
    "ch = input()\n",
    "print('Ascii value of',ch,'is ',ord(ch))"
   ]
  },
  {
   "cell_type": "markdown",
   "metadata": {},
   "source": [
    "#### 5. Write a Python Program to Make a Simple Calculator with 4 basic mathematical operations?"
   ]
  },
  {
   "cell_type": "code",
   "execution_count": 6,
   "metadata": {},
   "outputs": [
    {
     "name": "stdout",
     "output_type": "stream",
     "text": [
      "Addition :  15\n",
      "Subtraction :  3\n",
      "Multiplication :  14\n",
      "Division :  3.0\n"
     ]
    }
   ],
   "source": [
    "class Calculator:\n",
    "    def add(self,n1,n2):\n",
    "        return n1+n2\n",
    "    def sub(self,n1,n2):\n",
    "        return n1-n2\n",
    "    def mul(self,n1,n2):\n",
    "        return n1*n2\n",
    "    def div(self,n1,n2):\n",
    "        return n1/n2\n",
    "    \n",
    "cal = Calculator()\n",
    "print('Addition : ',cal.add(10,5))\n",
    "print('Subtraction : ',cal.sub(5,2))\n",
    "print('Multiplication : ',cal.mul(7,2))\n",
    "print('Division : ',cal.div(6,2))"
   ]
  }
 ],
 "metadata": {
  "kernelspec": {
   "display_name": "Python 3",
   "language": "python",
   "name": "python3"
  },
  "language_info": {
   "codemirror_mode": {
    "name": "ipython",
    "version": 3
   },
   "file_extension": ".py",
   "mimetype": "text/x-python",
   "name": "python",
   "nbconvert_exporter": "python",
   "pygments_lexer": "ipython3",
   "version": "3.8.8"
  }
 },
 "nbformat": 4,
 "nbformat_minor": 4
}
