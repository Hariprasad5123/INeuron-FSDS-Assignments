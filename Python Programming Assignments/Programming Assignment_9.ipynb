{
 "cells": [
  {
   "cell_type": "markdown",
   "metadata": {},
   "source": [
    "#### 1. Write a Python program to check if the given number is a Disarium Number?"
   ]
  },
  {
   "cell_type": "code",
   "execution_count": 13,
   "metadata": {},
   "outputs": [
    {
     "name": "stdout",
     "output_type": "stream",
     "text": [
      "518 --> This is Disarium number.\n",
      "143 --> This is not Disarium number.\n",
      "89 --> This is Disarium number.\n",
      "175 --> This is Disarium number.\n",
      "75 --> This is not Disarium number.\n"
     ]
    }
   ],
   "source": [
    "def checkDisarium(num):\n",
    "    num = str(num)\n",
    "    num1 = 0\n",
    "    for i in range(1,len(num)+1):\n",
    "        num1+=(int(num[i-1])**i)\n",
    "    if num1==int(num):\n",
    "        return 'This is Disarium number.'\n",
    "    return 'This is not Disarium number.'\n",
    "\n",
    "print('518 -->',checkDisarium(518))\n",
    "print('143 -->',checkDisarium(143))\n",
    "print('89 -->',checkDisarium(89))\n",
    "print('175 -->',checkDisarium(175))\n",
    "print('75 -->',checkDisarium(75))"
   ]
  },
  {
   "cell_type": "markdown",
   "metadata": {},
   "source": [
    "#### 2. Write a Python program to print all disarium numbers between 1 to 100?"
   ]
  },
  {
   "cell_type": "code",
   "execution_count": 4,
   "metadata": {},
   "outputs": [
    {
     "name": "stdout",
     "output_type": "stream",
     "text": [
      "Disarium numbers between 1 to 100 : \n",
      "1 2 3 4 5 6 7 8 9 89 "
     ]
    }
   ],
   "source": [
    "def checkDisarium(num):\n",
    "    num = str(num)\n",
    "    num1 = 0\n",
    "    for i in range(1,len(num)+1):\n",
    "        num1+=(int(num[i-1])**i)\n",
    "    if num1==int(num):\n",
    "        return True\n",
    "    return False\n",
    "\n",
    "print('Disarium numbers between 1 to 100 : ')\n",
    "for i in range(1,101):\n",
    "    if checkDisarium(i):\n",
    "        print(i,end=' ')"
   ]
  },
  {
   "cell_type": "markdown",
   "metadata": {},
   "source": [
    "#### 3. Write a Python program to check if the given number is Happy Number?"
   ]
  },
  {
   "cell_type": "code",
   "execution_count": 3,
   "metadata": {},
   "outputs": [
    {
     "name": "stdout",
     "output_type": "stream",
     "text": [
      "19---> This is Happy number.\n",
      "5---> This is not Happy number.\n",
      "20---> This is not Happy number.\n",
      "13---> This is Happy number.\n",
      "10---> This is Happy number.\n"
     ]
    }
   ],
   "source": [
    "def checkHappy(n):\n",
    "    n = str(n)\n",
    "    u = []\n",
    "    while n!='1':\n",
    "        s = 0\n",
    "        for i in n:\n",
    "            s+=(int(i)**2)\n",
    "        n = str(s)\n",
    "        if n not in u: u.append(n)\n",
    "        else: return 'This is not Happy number.'\n",
    "    return 'This is Happy number.'\n",
    "\n",
    "print('19--->',checkHappy(19))\n",
    "print('5--->',checkHappy(5))\n",
    "print('20--->',checkHappy(20))\n",
    "print('13--->',checkHappy(13))\n",
    "print('10--->',checkHappy(10))\n",
    "   "
   ]
  },
  {
   "cell_type": "markdown",
   "metadata": {},
   "source": [
    "#### 4. Write a Python program to print all happy numbers between 1 and 100?\n"
   ]
  },
  {
   "cell_type": "code",
   "execution_count": 9,
   "metadata": {},
   "outputs": [
    {
     "name": "stdout",
     "output_type": "stream",
     "text": [
      "Happy numbers between 1 and 100 : \n",
      "1 7 10 13 19 23 28 31 32 44 49 68 70 79 82 86 91 94 97 100 "
     ]
    }
   ],
   "source": [
    "def checkHappy(n):\n",
    "    u = []\n",
    "    while n!=1:\n",
    "        s = 0\n",
    "        for i in str(n):\n",
    "            s+=(int(i)**2)\n",
    "        n = s\n",
    "        if n not in u: u.append(n)\n",
    "        else: return False\n",
    "    return True\n",
    "\n",
    "print('Happy numbers between 1 and 100 : ')\n",
    "for i in range(1,101):\n",
    "    if checkHappy(i):\n",
    "        print(i,end=' ')"
   ]
  },
  {
   "cell_type": "markdown",
   "metadata": {},
   "source": [
    "#### 5. Write a Python program to determine whether the given number is a Harshad Number?"
   ]
  },
  {
   "cell_type": "code",
   "execution_count": 22,
   "metadata": {},
   "outputs": [
    {
     "name": "stdout",
     "output_type": "stream",
     "text": [
      "156---> This is Harshad number.\n",
      "19---> This is not Harshad number.\n",
      "11---> This is not Harshad number.\n",
      "57---> This is not Harshad number.\n",
      "21---> This is Harshad number.\n",
      "120---> This is Harshad number.\n"
     ]
    }
   ],
   "source": [
    "def checkHarshad(numb):\n",
    "    sums = sum([int(i) for i in str(numb)])\n",
    "    if not numb%sums: \n",
    "        return 'This is Harshad number.' \n",
    "    return 'This is not Harshad number.'\n",
    "\n",
    "print('156--->',checkHarshad(156))\n",
    "print('19--->',checkHarshad(19))\n",
    "print('11--->',checkHarshad(11))\n",
    "print('57--->',checkHarshad(57))\n",
    "print('21--->',checkHarshad(21))\n",
    "print('120--->',checkHarshad(120))"
   ]
  },
  {
   "cell_type": "markdown",
   "metadata": {},
   "source": [
    "#### 6. Write a Python program to print all pronic numbers between 1 and 100?"
   ]
  },
  {
   "cell_type": "code",
   "execution_count": 1,
   "metadata": {},
   "outputs": [
    {
     "name": "stdout",
     "output_type": "stream",
     "text": [
      "2 6 12 20 30 42 56 72 90 "
     ]
    }
   ],
   "source": [
    "def pronic(n):\n",
    "    for i in range(1,n):\n",
    "        if i*(i+1)==n:\n",
    "            return True\n",
    "    return False\n",
    "    \n",
    "\n",
    "for i in range(1,101):\n",
    "    if pronic(i):\n",
    "        print(i,end=' ')"
   ]
  }
 ],
 "metadata": {
  "kernelspec": {
   "display_name": "Python 3",
   "language": "python",
   "name": "python3"
  },
  "language_info": {
   "codemirror_mode": {
    "name": "ipython",
    "version": 3
   },
   "file_extension": ".py",
   "mimetype": "text/x-python",
   "name": "python",
   "nbconvert_exporter": "python",
   "pygments_lexer": "ipython3",
   "version": "3.8.8"
  }
 },
 "nbformat": 4,
 "nbformat_minor": 4
}
