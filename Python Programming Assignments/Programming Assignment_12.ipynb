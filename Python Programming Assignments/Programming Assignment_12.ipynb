{
 "cells": [
  {
   "cell_type": "markdown",
   "metadata": {},
   "source": [
    "#### 1. Write a Python program to Extract Unique values dictionary values?"
   ]
  },
  {
   "cell_type": "code",
   "execution_count": 2,
   "metadata": {},
   "outputs": [
    {
     "name": "stdout",
     "output_type": "stream",
     "text": [
      "Unique values from dictionary :  1 2 3\n"
     ]
    }
   ],
   "source": [
    "d = {'one':1,'two':2,'one1':1,'two1':2,'three':3,'thr':3,}\n",
    "print('Unique values from dictionary : ',*set(d.values()))"
   ]
  },
  {
   "cell_type": "markdown",
   "metadata": {},
   "source": [
    "#### 2. Write a Python program to find the sum of all items in a dictionary?"
   ]
  },
  {
   "cell_type": "code",
   "execution_count": 4,
   "metadata": {},
   "outputs": [
    {
     "name": "stdout",
     "output_type": "stream",
     "text": [
      "Sum of all items from dictionary :  12\n"
     ]
    }
   ],
   "source": [
    "d1 = {'one':1,'two':2,'one1':1,'two1':2,'three':3,'thr':3,}\n",
    "print('Sum of all items from dictionary : ',sum(d1.values()))"
   ]
  },
  {
   "cell_type": "markdown",
   "metadata": {},
   "source": [
    "#### 3. Write a Python program to Merging two Dictionaries?"
   ]
  },
  {
   "cell_type": "code",
   "execution_count": 13,
   "metadata": {},
   "outputs": [
    {
     "name": "stdout",
     "output_type": "stream",
     "text": [
      "Merging of two dictionaries :  {'sunday': 0, 'monday': 2, 'tuesday': 8, 'wednesday': 10, 'friday': 5, 'saturday': 6}\n"
     ]
    }
   ],
   "source": [
    "d2 = {'sunday':1,'monday':2,'tuesday':3,'wednesday':4}\n",
    "d3 = {'friday':5,'saturday':6,'sunday':0,'tuesday':8,'wednesday':10}\n",
    "\n",
    "for i in d3:\n",
    "    if i not in d2:\n",
    "        d2[i] = d3[i]\n",
    "    else:\n",
    "        d2[i] = d3[i]\n",
    "        \n",
    "print('Merging of two dictionaries : ',d2)   "
   ]
  },
  {
   "cell_type": "markdown",
   "metadata": {},
   "source": [
    "#### 4. Write a Python program to convert key-values list to flat dictionary?"
   ]
  },
  {
   "cell_type": "code",
   "execution_count": 18,
   "metadata": {},
   "outputs": [
    {
     "name": "stdout",
     "output_type": "stream",
     "text": [
      "Key-values list :  [['sun', 0], ['mon', 1], ['tues', 2], ['wednes', 3], ['thurs', 4], ['fri', 5], ['satur', 6]]\n",
      "\n",
      "Flat dictionary from key-values :  {'sun': 0, 'mon': 1, 'tues': 2, 'wednes': 3, 'thurs': 4, 'fri': 5, 'satur': 6}\n"
     ]
    }
   ],
   "source": [
    "kvl = [['sun',0],['mon',1],['tues',2],['wednes',3],['thurs',4],['fri',5],['satur',6]]\n",
    "print('Key-values list : ',kvl)\n",
    "d4 = dict()\n",
    "\n",
    "for i,j in kvl:\n",
    "    if i not in d4:\n",
    "        d4[i] = j\n",
    "        \n",
    "print('\\nFlat dictionary from key-values : ',d4)"
   ]
  },
  {
   "cell_type": "markdown",
   "metadata": {},
   "source": [
    "#### 5. Write a Python program to insertion at the beginning in OrderedDict?"
   ]
  },
  {
   "cell_type": "code",
   "execution_count": 20,
   "metadata": {},
   "outputs": [
    {
     "name": "stdout",
     "output_type": "stream",
     "text": [
      "Original Ordered dictionary :  OrderedDict([('sun', 0), ('mon', 1), ('tues', 2), ('wednes', 3), ('thurs', 4), ('fri', 5), ('satur', 6)])\n",
      "\n",
      "After adding element at the first position in ordered dictionary :  OrderedDict([('weeks', 7), ('sun', 0), ('mon', 1), ('tues', 2), ('wednes', 3), ('thurs', 4), ('fri', 5), ('satur', 6)])\n"
     ]
    }
   ],
   "source": [
    "from collections import OrderedDict\n",
    "\n",
    "ord_dict = OrderedDict([['sun',0],['mon',1],['tues',2],['wednes',3],['thurs',4],['fri',5],['satur',6]])\n",
    "print('Original Ordered dictionary : ',ord_dict)\n",
    "print()\n",
    "ord_dict.update({'weeks':7})\n",
    "ord_dict.move_to_end('weeks',last=False)\n",
    "print('After adding element at the first position in ordered dictionary : ',ord_dict)"
   ]
  },
  {
   "cell_type": "markdown",
   "metadata": {},
   "source": [
    "#### 6. Write a Python program to check order of character in string using OrderedDict()?"
   ]
  },
  {
   "cell_type": "code",
   "execution_count": 26,
   "metadata": {},
   "outputs": [
    {
     "name": "stdout",
     "output_type": "stream",
     "text": [
      "Enter string : this is python\n",
      "Enter pattern : ton\n",
      "True\n"
     ]
    }
   ],
   "source": [
    "from collections import OrderedDict\n",
    "st_r = input('Enter string : ')\n",
    "pattern = input('Enter pattern : ')\n",
    "od_dict = OrderedDict.fromkeys(st_r)\n",
    "\n",
    "x = 0\n",
    "for i in od_dict.keys():\n",
    "    if i==pattern[x]:\n",
    "        x+=1\n",
    "    if len(pattern)==x: break\n",
    "        \n",
    "if len(pattern)==x: \n",
    "    print(True)\n",
    "else: \n",
    "    print(False)\n",
    "\n"
   ]
  },
  {
   "cell_type": "markdown",
   "metadata": {},
   "source": [
    "#### 7. Write a Python program to sort Python Dictionaries by Key or Value?"
   ]
  },
  {
   "cell_type": "code",
   "execution_count": 23,
   "metadata": {},
   "outputs": [
    {
     "name": "stdout",
     "output_type": "stream",
     "text": [
      "Unsorted dictionary :  {'Captain America': 5, 'Hulk': 3, 'Thor': 2, 'Iron man': 1, 'Black Panther': 4, 'Black widow': 6, 'Hawkeye': 7, 'Antman': 8}\n",
      "\n",
      "Sorted dictionary :  [('Iron man', 1), ('Thor', 2), ('Hulk', 3), ('Black Panther', 4), ('Captain America', 5), ('Black widow', 6), ('Hawkeye', 7), ('Antman', 8)]\n"
     ]
    }
   ],
   "source": [
    "unsort_dict = {'Captain America':5,'Hulk':3,'Thor':2,'Iron man':1,'Black Panther':4,'Black widow':6,'Hawkeye':7,'Antman':8}\n",
    "print('Unsorted dictionary : ',unsort_dict)\n",
    "print()\n",
    "print('Sorted dictionary : ',sorted(unsort_dict.items(),key = lambda x : x[1]))"
   ]
  }
 ],
 "metadata": {
  "kernelspec": {
   "display_name": "Python 3",
   "language": "python",
   "name": "python3"
  },
  "language_info": {
   "codemirror_mode": {
    "name": "ipython",
    "version": 3
   },
   "file_extension": ".py",
   "mimetype": "text/x-python",
   "name": "python",
   "nbconvert_exporter": "python",
   "pygments_lexer": "ipython3",
   "version": "3.8.8"
  }
 },
 "nbformat": 4,
 "nbformat_minor": 4
}
