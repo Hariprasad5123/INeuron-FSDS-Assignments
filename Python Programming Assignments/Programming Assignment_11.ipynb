{
 "cells": [
  {
   "cell_type": "markdown",
   "metadata": {},
   "source": [
    "#### 1. Write a Python program to find words which are greater than given length k?"
   ]
  },
  {
   "cell_type": "code",
   "execution_count": 26,
   "metadata": {},
   "outputs": [
    {
     "name": "stdout",
     "output_type": "stream",
     "text": [
      "Enter string : I am learning full stack datascience from iNeuron\n",
      "Enter length : 4\n",
      "Words which are greater then length 4 : \n",
      "learning, stack, datascience, iNeuron\n"
     ]
    }
   ],
   "source": [
    "st = input('Enter string : ')\n",
    "k = int(input('Enter length : '))\n",
    "print('Words which are greater then length',k,': ')\n",
    "print(*[i for i in st.split() if len(i)>k],sep=', ')"
   ]
  },
  {
   "cell_type": "markdown",
   "metadata": {},
   "source": [
    "#### 2. Write a Python program for removing i-th character from a string?"
   ]
  },
  {
   "cell_type": "code",
   "execution_count": 48,
   "metadata": {},
   "outputs": [
    {
     "name": "stdout",
     "output_type": "stream",
     "text": [
      "Enter index to be removed : 3\n",
      "After removing the character from the string :  Pyton\n"
     ]
    }
   ],
   "source": [
    "String = 'Python'\n",
    "pos = int(input('Enter index to be removed : '))\n",
    "String = String[:pos]+String[pos+1:]\n",
    "print('After removing the character from the string : ',String)"
   ]
  },
  {
   "cell_type": "markdown",
   "metadata": {},
   "source": [
    "#### 3. Write a Python program to split and join a string?"
   ]
  },
  {
   "cell_type": "code",
   "execution_count": 20,
   "metadata": {},
   "outputs": [
    {
     "name": "stdout",
     "output_type": "stream",
     "text": [
      "Before splitting the string :  abcd cdef ghij klmn opqr stuv wxyz\n",
      "After splitting the string :  ['abcd', 'cdef', 'ghij', 'klmn', 'opqr', 'stuv', 'wxyz']\n",
      "\n",
      "Before joining the string :  ['abcd', 'cdef', 'ghij', 'klmn', 'opqr', 'stuv', 'wxyz']\n",
      "After joining the string :  abcdcdefghijklmnopqrstuvwxyz\n"
     ]
    }
   ],
   "source": [
    "s1 = 'abcd cdef ghij klmn opqr stuv wxyz'\n",
    "print('Before splitting the string : ',s1)\n",
    "s2 = s1.split()\n",
    "print('After splitting the string : ',s2)\n",
    "\n",
    "print()\n",
    "print('Before joining the string : ',s2)\n",
    "print('After joining the string : ',''.join(s2))\n"
   ]
  },
  {
   "cell_type": "markdown",
   "metadata": {},
   "source": [
    "#### 4. Write a Python to check if a given string is binary string or not?"
   ]
  },
  {
   "cell_type": "code",
   "execution_count": 42,
   "metadata": {},
   "outputs": [
    {
     "name": "stdout",
     "output_type": "stream",
     "text": [
      "10111011---> It is binary string.\n",
      "10211011---> It is not binary string.\n",
      "101---> It is binary string.\n",
      "10123121011---> It is not binary string.\n",
      "1110110101---> It is binary string.\n",
      "10123asd21---> It is not binary string.\n",
      "sadasd---> It is not binary string.\n"
     ]
    }
   ],
   "source": [
    "def checkbinstr(s):\n",
    "    for i in s:\n",
    "        if i not in ('0','1'):\n",
    "            return 'It is not binary string.'\n",
    "    return 'It is binary string.'\n",
    "\n",
    "print('10111011--->',checkbinstr('10111011'))\n",
    "print('10211011--->',checkbinstr('10211011'))\n",
    "print('101--->',checkbinstr('101'))\n",
    "print('10123121011--->',checkbinstr('10123121011'))\n",
    "print('1110110101--->',checkbinstr('1110110101'))\n",
    "print('10123asd21--->',checkbinstr('10123asd21'))\n",
    "print('sadasd--->',checkbinstr('sadasd'))"
   ]
  },
  {
   "cell_type": "markdown",
   "metadata": {},
   "source": [
    "#### 5. Write a Python program to find uncommon words from two Strings?"
   ]
  },
  {
   "cell_type": "code",
   "execution_count": 55,
   "metadata": {},
   "outputs": [
    {
     "name": "stdout",
     "output_type": "stream",
     "text": [
      "Uncommon words :  python datascience\n"
     ]
    }
   ],
   "source": [
    "def uncommon_words(st1,st2):\n",
    "    l = []\n",
    "    for i in st1.split():\n",
    "        if i not in st2.split():\n",
    "            l.append(i)\n",
    "    for i in st2.split():\n",
    "        if i not in st1.split():\n",
    "            l.append(i)\n",
    "    return l\n",
    "\n",
    "st1 = 'This is python'\n",
    "st2 = 'This is datascience'\n",
    "print('Uncommon words : ',*uncommon_words(st1,st2))"
   ]
  },
  {
   "cell_type": "markdown",
   "metadata": {},
   "source": [
    "#### 6. Write a Python to find all duplicate characters in string?"
   ]
  },
  {
   "cell_type": "code",
   "execution_count": 60,
   "metadata": {},
   "outputs": [
    {
     "name": "stdout",
     "output_type": "stream",
     "text": [
      "Duplicate characters : \n",
      "a,m,l,e,r,n,i,f,u,s,t,c,o\n"
     ]
    }
   ],
   "source": [
    "sty = 'I am learning full stack datascience from iNeuron.'\n",
    "l = []\n",
    "for i in sty.split():\n",
    "    for j in i:\n",
    "        if sty.count(j)!=1:\n",
    "            if j not in l:\n",
    "                l.append(j)\n",
    "                \n",
    "print('Duplicate characters : ',)\n",
    "print(*l,sep=',')"
   ]
  },
  {
   "cell_type": "markdown",
   "metadata": {},
   "source": [
    "#### 7. Write a Python Program to check if a string contains any special character?"
   ]
  },
  {
   "cell_type": "code",
   "execution_count": 83,
   "metadata": {},
   "outputs": [
    {
     "name": "stdout",
     "output_type": "stream",
     "text": [
      "String contains special characters\n",
      "String does not contains special characters\n"
     ]
    }
   ],
   "source": [
    "def checkSplCh(st):\n",
    "    for i in st.split():\n",
    "        if not i.isalpha():\n",
    "            return 'String contains special characters'\n",
    "    return 'String does not contains special characters'\n",
    "    \n",
    "sty1 = 'I am lea^rni&ng full, stack datas:cience from i-Neuron'\n",
    "sty2 = 'I am learning full stack datascience from iNeuron'\n",
    "\n",
    "print(checkSplCh(sty1))\n",
    "print(checkSplCh(sty2))\n",
    "\n"
   ]
  }
 ],
 "metadata": {
  "kernelspec": {
   "display_name": "Python 3",
   "language": "python",
   "name": "python3"
  },
  "language_info": {
   "codemirror_mode": {
    "name": "ipython",
    "version": 3
   },
   "file_extension": ".py",
   "mimetype": "text/x-python",
   "name": "python",
   "nbconvert_exporter": "python",
   "pygments_lexer": "ipython3",
   "version": "3.8.8"
  }
 },
 "nbformat": 4,
 "nbformat_minor": 4
}
