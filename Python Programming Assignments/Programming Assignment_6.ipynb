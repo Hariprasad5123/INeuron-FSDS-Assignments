{
 "cells": [
  {
   "cell_type": "markdown",
   "metadata": {},
   "source": [
    "#### 1. Write a Python Program to Display Fibonacci Sequence Using Recursion?"
   ]
  },
  {
   "cell_type": "code",
   "execution_count": 14,
   "metadata": {},
   "outputs": [
    {
     "name": "stdout",
     "output_type": "stream",
     "text": [
      "Enter range : 10\n",
      "\n",
      "Fibonacci series : \n",
      "0 1 1 2 3 5 8 13 21 34 "
     ]
    }
   ],
   "source": [
    "a,b = 0,1\n",
    "def fibonacci(n):\n",
    "    global a,b\n",
    "    if n==0: return \n",
    "    print(a,end=' ')\n",
    "    a,b = b,a+b\n",
    "    fibonacci(n-1)\n",
    "\n",
    "n = int(input('Enter range : '))\n",
    "print('\\nFibonacci series : ')\n",
    "fibonacci(n)"
   ]
  },
  {
   "cell_type": "markdown",
   "metadata": {},
   "source": [
    "#### 2. Write a Python Program to Find Factorial of Number Using Recursion?"
   ]
  },
  {
   "cell_type": "code",
   "execution_count": 20,
   "metadata": {},
   "outputs": [
    {
     "name": "stdout",
     "output_type": "stream",
     "text": [
      "Enter number : 5\n",
      "Factorial :  120\n"
     ]
    }
   ],
   "source": [
    "def factorial(num):\n",
    "    if num<=1:\n",
    "        return 1\n",
    "    return num*factorial(num-1)\n",
    "\n",
    "num = int(input('Enter number : '))\n",
    "print('Factorial : ',factorial(5))"
   ]
  },
  {
   "cell_type": "markdown",
   "metadata": {},
   "source": [
    "#### 3. Write a Python Program to calculate your Body Mass Index?"
   ]
  },
  {
   "cell_type": "code",
   "execution_count": 24,
   "metadata": {},
   "outputs": [
    {
     "name": "stdout",
     "output_type": "stream",
     "text": [
      "Enter weight in kg : 53\n",
      "Enter height in cm : 164.592\n",
      "You are healthy.\n"
     ]
    }
   ],
   "source": [
    "weight = float(input('Enter weight in kg : '))\n",
    "height = float(input('Enter height in cm : '))\n",
    "body_mass_index = weight/((height/100)**2)\n",
    "\n",
    "if body_mass_index <= 18.4:\n",
    "    print('You are underweight.')\n",
    "elif body_mass_index <= 24.9:\n",
    "    print('You are healthy.')\n",
    "elif body_mass_index <= 29.9:\n",
    "    print('You are over weight.')\n",
    "elif body_mass_index <= 34.9:\n",
    "    print('You are severely over weight.')\n",
    "elif body_mass_index <= 39.9:\n",
    "    print('You are obese.')\n",
    "else:\n",
    "    print('You are severely obese.')"
   ]
  },
  {
   "cell_type": "markdown",
   "metadata": {},
   "source": [
    "#### 4. Write a Python Program to calculate the natural logarithm of any number?"
   ]
  },
  {
   "cell_type": "code",
   "execution_count": 25,
   "metadata": {},
   "outputs": [
    {
     "name": "stdout",
     "output_type": "stream",
     "text": [
      "Enter number : 5\n",
      "1.6094379124341003\n"
     ]
    }
   ],
   "source": [
    "import math as m\n",
    "print(m.log(int(input('Enter number : '))))"
   ]
  },
  {
   "cell_type": "markdown",
   "metadata": {},
   "source": [
    "#### 5. Write a Python Program for cube sum of first n natural numbers?"
   ]
  },
  {
   "cell_type": "code",
   "execution_count": 31,
   "metadata": {},
   "outputs": [
    {
     "name": "stdout",
     "output_type": "stream",
     "text": [
      "Enter value : 4\n",
      "Cube sum of first 4 numbers :  100.0\n"
     ]
    }
   ],
   "source": [
    "nu = int(input('Enter value : '))\n",
    "cube_sum = ((nu**2)*((nu+1)**2))/4\n",
    "print('Cube sum of first',nu,'numbers : ',cube_sum)"
   ]
  }
 ],
 "metadata": {
  "kernelspec": {
   "display_name": "Python 3",
   "language": "python",
   "name": "python3"
  },
  "language_info": {
   "codemirror_mode": {
    "name": "ipython",
    "version": 3
   },
   "file_extension": ".py",
   "mimetype": "text/x-python",
   "name": "python",
   "nbconvert_exporter": "python",
   "pygments_lexer": "ipython3",
   "version": "3.8.8"
  }
 },
 "nbformat": 4,
 "nbformat_minor": 4
}
