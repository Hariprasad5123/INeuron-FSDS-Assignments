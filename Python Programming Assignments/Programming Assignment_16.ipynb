{
 "cells": [
  {
   "cell_type": "markdown",
   "metadata": {},
   "source": [
    "#### Question1. Write a function that stutters a word as if someone is struggling to read it. The first two letters are repeated twice with an ellipsis ... and space after each, and then the word is pronounced with a question mark ?.\n",
    "#### Examples\n",
    "#### stutter(&quot;incredible&quot;) ➞ &quot;in... in... incredible?&quot;\n",
    "#### stutter(&quot;enthusiastic&quot;) ➞ &quot;en... en... enthusiastic?&quot;\n",
    "#### stutter(&quot;outstanding&quot;) ➞ &quot;ou... ou... outstanding?&quot;\n",
    "\n",
    "#### Hint :- Assume all input is in lower case and at least two characters long."
   ]
  },
  {
   "cell_type": "code",
   "execution_count": 5,
   "metadata": {},
   "outputs": [
    {
     "name": "stdout",
     "output_type": "stream",
     "text": [
      "in...in...incredible?\n",
      "en...en...enthusiastic?\n",
      "ou...ou...outstanding?\n"
     ]
    }
   ],
   "source": [
    "def stutter(s1):\n",
    "    return s1[:2]+'...'+s1[:2]+'...'+s1+'?'\n",
    "\n",
    "print(stutter('incredible'))\n",
    "print(stutter('enthusiastic'))\n",
    "print(stutter('outstanding'))"
   ]
  },
  {
   "cell_type": "markdown",
   "metadata": {},
   "source": [
    "#### Question 2.Create a function that takes an angle in radians and returns the corresponding angle in degrees rounded to one decimal place.\n",
    "#### Examples\n",
    "#### radians_to_degrees(1) ➞ 57.3\n",
    "#### radians_to_degrees(20) ➞ 1145.9\n",
    "#### radians_to_degrees(50) ➞ 2864.8"
   ]
  },
  {
   "cell_type": "code",
   "execution_count": 7,
   "metadata": {},
   "outputs": [
    {
     "name": "stdout",
     "output_type": "stream",
     "text": [
      "57.3\n",
      "1145.9\n",
      "2864.8\n"
     ]
    }
   ],
   "source": [
    "from math import pi\n",
    "\n",
    "def radians_to_degrees(rad):\n",
    "    return rad*(180/pi)\n",
    "\n",
    "print('{:.1f}'.format(radians_to_degrees(1)))\n",
    "print('{:.1f}'.format(radians_to_degrees(20)))\n",
    "print('{:.1f}'.format(radians_to_degrees(50)))"
   ]
  },
  {
   "cell_type": "markdown",
   "metadata": {},
   "source": [
    "#### Question 3. In this challenge, establish if a given integer num is a Curzon number. If 1 plus 2 elevated to num is exactly divisible by 1 plus 2 multiplied by num, then num is a Curzon number.\n",
    "#### Given a non-negative integer num, implement a function that returns True if num is a Curzon number, or False otherwise.\n",
    "#### Examples\n",
    "#### is_curzon(5) ➞ True\n",
    "#### # 2 ** 5 + 1 = 33\n",
    "#### # 2 * 5 + 1 = 11\n",
    "#### # 33 is a multiple of 11\n",
    "#### is_curzon(10) ➞ False\n",
    "#### # 2 ** 10 + 1 = 1025\n",
    "#### # 2 * 10 + 1 = 21\n",
    "#### # 1025 is not a multiple of 21\n",
    "#### is_curzon(14) ➞ True\n",
    "#### # 2 ** 14 + 1 = 16385\n",
    "#### # 2 * 14 + 1 = 29\n",
    "#### # 16385 is a multiple of 29"
   ]
  },
  {
   "cell_type": "code",
   "execution_count": 8,
   "metadata": {},
   "outputs": [
    {
     "name": "stdout",
     "output_type": "stream",
     "text": [
      "5---> True\n",
      "10---> False\n",
      "14---> True\n"
     ]
    }
   ],
   "source": [
    "def is_curzon(n1):\n",
    "    a = 2**n1+1\n",
    "    b = 2*n1+1\n",
    "    if not a%b: return True\n",
    "    return False\n",
    "\n",
    "print('5--->',is_curzon(5))\n",
    "print('10--->',is_curzon(10))\n",
    "print('14--->',is_curzon(14))"
   ]
  },
  {
   "cell_type": "markdown",
   "metadata": {},
   "source": [
    "#### Question 4.Given the side length x find the area of a hexagon.\n",
    "#### Examples\n",
    "#### area_of_hexagon(1) ➞ 2.6\n",
    "#### area_of_hexagon(2) ➞ 10.4\n",
    "#### area_of_hexagon(3) ➞ 23.4"
   ]
  },
  {
   "cell_type": "code",
   "execution_count": 10,
   "metadata": {},
   "outputs": [
    {
     "name": "stdout",
     "output_type": "stream",
     "text": [
      "1---->2.6\n",
      "2---->10.4\n",
      "3---->23.4\n"
     ]
    }
   ],
   "source": [
    "from math import sqrt\n",
    "def area_of_hexagon(s):\n",
    "    return (3*sqrt(3)*(s**2))/2\n",
    "\n",
    "print('1---->{:.1f}'.format(area_of_hexagon(1)))\n",
    "print('2---->{:.1f}'.format(area_of_hexagon(2)))\n",
    "print('3---->{:.1f}'.format(area_of_hexagon(3)))"
   ]
  },
  {
   "cell_type": "markdown",
   "metadata": {},
   "source": [
    "#### Question 5. Create a function that returns a base-2 (binary) representation of a base-10 (decimal) string number. To convert is simple: ((2) means base-2 and (10) means base-10)\n",
    "#### 010101001(2) = 1 + 8 + 32 + 128.\n",
    "#### Going from right to left, the value of the most right bit is 1, now from that every bit to the left will be x2 the value, value of an 8 bit binary numbers are (256, 128, 64, 32, 16, 8, 4, 2, 1).\n",
    "#### Examples\n",
    "#### binary(1) ➞ &quot;1&quot;\n",
    "#### # 1*1 = 1\n",
    "#### binary(5) ➞ &quot;101&quot;\n",
    "#### # 1*1 + 1*4 = 5\n",
    "#### binary(10) ➞ &quot;1010&quot;\n",
    "#### # 1*2 + 1*8 = 10"
   ]
  },
  {
   "cell_type": "code",
   "execution_count": 11,
   "metadata": {},
   "outputs": [
    {
     "name": "stdout",
     "output_type": "stream",
     "text": [
      "1---> 1\n",
      "5---> 101\n",
      "10---> 1010\n"
     ]
    }
   ],
   "source": [
    "def binary(bi):\n",
    "    return bin(bi)[2:]\n",
    "\n",
    "print('1--->',binary(1))\n",
    "print('5--->',binary(5))\n",
    "print('10--->',binary(10))"
   ]
  }
 ],
 "metadata": {
  "kernelspec": {
   "display_name": "Python 3",
   "language": "python",
   "name": "python3"
  },
  "language_info": {
   "codemirror_mode": {
    "name": "ipython",
    "version": 3
   },
   "file_extension": ".py",
   "mimetype": "text/x-python",
   "name": "python",
   "nbconvert_exporter": "python",
   "pygments_lexer": "ipython3",
   "version": "3.8.8"
  }
 },
 "nbformat": 4,
 "nbformat_minor": 4
}
