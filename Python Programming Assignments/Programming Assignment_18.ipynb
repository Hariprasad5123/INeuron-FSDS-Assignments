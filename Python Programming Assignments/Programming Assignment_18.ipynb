{
 "cells": [
  {
   "cell_type": "markdown",
   "metadata": {},
   "source": [
    "#### Question 1\n",
    "#### Create a function that takes a list of non-negative integers and strings and return a new list without the strings.\n",
    "#### Examples\n",
    "#### filter_list([1, 2, &quot;a&quot;, &quot;b&quot;]) ➞ [1, 2]\n",
    "#### filter_list([1, &quot;a&quot;, &quot;b&quot;, 0, 15]) ➞ [1, 0, 15]\n",
    "#### filter_list([1, 2, &quot;aasf&quot;, &quot;1&quot;, &quot;123&quot;, 123]) ➞ [1, 2, 123]"
   ]
  },
  {
   "cell_type": "code",
   "execution_count": 4,
   "metadata": {},
   "outputs": [
    {
     "name": "stdout",
     "output_type": "stream",
     "text": [
      "filter_list([1, 2, \"a\", \"b\"]) --->  [1, 2]\n",
      "\n",
      "filter_list([1, \"a\", \"b\", 0, 15]) --->  [1, 0, 15]\n",
      "\n",
      "filter_list([1, 2, \"aasf\", \"1\", \"123\", 123]) --->  [1, 2, 123]\n"
     ]
    }
   ],
   "source": [
    "def filter_list(l):\n",
    "    l1 = []\n",
    "    for i in l:\n",
    "        if type(i)==type(1):\n",
    "            l1.append(i)\n",
    "    return l1\n",
    "\n",
    "print('filter_list([1, 2, \"a\", \"b\"]) ---> ',filter_list([1, 2, \"a\", \"b\"]))\n",
    "print()\n",
    "print('filter_list([1, \"a\", \"b\", 0, 15]) ---> ',filter_list([1, \"a\", \"b\", 0, 15]))\n",
    "print()\n",
    "print('filter_list([1, 2, \"aasf\", \"1\", \"123\", 123]) ---> ',filter_list([1, 2, \"aasf\", \"1\", \"123\", 123]))"
   ]
  },
  {
   "cell_type": "markdown",
   "metadata": {},
   "source": [
    "#### Question 2\n",
    "#### The &quot;Reverser&quot; takes a string as input and returns that string in reverse order, with the opposite case.\n",
    "#### Examples\n",
    "#### reverse(&quot;Hello World&quot;) ➞ &quot;DLROw OLLEh&quot;\n",
    "#### reverse(&quot;ReVeRsE&quot;) ➞ &quot;eSrEvEr&quot;\n",
    "#### reverse(&quot;Radar&quot;) ➞ &quot;RADAr&quot;"
   ]
  },
  {
   "cell_type": "code",
   "execution_count": 5,
   "metadata": {},
   "outputs": [
    {
     "name": "stdout",
     "output_type": "stream",
     "text": [
      "reverse(\"Hello World\") --->  DLROw OLLEh\n",
      "\n",
      "reverse(\"ReVeRsE\") --->  eSrEvEr\n",
      "\n",
      "reverse(\"Radar\") --->  RADAr\n"
     ]
    }
   ],
   "source": [
    "def reverse(my_str):\n",
    "    return my_str[::-1].swapcase()\n",
    "\n",
    "print('reverse(\"Hello World\") ---> ',reverse(\"Hello World\"))\n",
    "print()\n",
    "print('reverse(\"ReVeRsE\") ---> ',reverse(\"ReVeRsE\"))\n",
    "print()\n",
    "print('reverse(\"Radar\") ---> ',reverse(\"Radar\"))"
   ]
  },
  {
   "cell_type": "markdown",
   "metadata": {},
   "source": [
    "#### Question 3\n",
    "#### You can assign variables from lists like this:\n",
    "#### lst = [1, 2, 3, 4, 5, 6]\n",
    "#### first = lst[0]\n",
    "#### middle = lst[1:-1]\n",
    "#### last = lst[-1]\n",
    "#### print(first) ➞ outputs 1\n",
    "#### print(middle) ➞ outputs [2, 3, 4, 5]\n",
    "#### print(last) ➞ outputs 6\n",
    "#### With Python 3, you can assign variables from lists in a much more succinct way. Create variables first, middle and last from the given list using destructuring assignment (check the Resources tab for some examples), where:\n",
    "#### first ➞ 1\n",
    "#### middle ➞ [2, 3, 4, 5]\n",
    "#### last ➞ 6\n",
    "#### Your task is to unpack the list writeyourcodehere into three variables, being first,  middle, and last, with middle being everything in between the first and last element. Then print all three variables."
   ]
  },
  {
   "cell_type": "code",
   "execution_count": 7,
   "metadata": {},
   "outputs": [
    {
     "name": "stdout",
     "output_type": "stream",
     "text": [
      "First --->  1\n",
      "Middle --->  [2, 3, 4, 5]\n",
      "Last --->  6\n",
      "\n",
      "First --->  2\n",
      "Middle --->  [3, 7, 1, 9]\n",
      "Last --->  8\n"
     ]
    }
   ],
   "source": [
    "def unpack(lis):\n",
    "    print('First ---> ',lis[0])\n",
    "    print('Middle ---> ',lis[1:-1])\n",
    "    print('Last ---> ',lis[-1])\n",
    "\n",
    "unpack([1,2,3,4,5,6])\n",
    "print()\n",
    "unpack([2,3,7,1,9,8])"
   ]
  },
  {
   "cell_type": "markdown",
   "metadata": {},
   "source": [
    "#### Question 4\n",
    "#### Write a function that calculates the factorial of a number recursively.\n",
    "#### Examples\n",
    "#### factorial(5) ➞ 120\n",
    "#### factorial(3) ➞ 6\n",
    "#### factorial(1) ➞ 1\n",
    "#### factorial(0) ➞ 1"
   ]
  },
  {
   "cell_type": "code",
   "execution_count": 8,
   "metadata": {},
   "outputs": [
    {
     "name": "stdout",
     "output_type": "stream",
     "text": [
      "factorial(5)---> 120\n",
      "facorial(3)---> 6\n",
      "facorial(1)---> 1\n",
      "facorial(0)---> 1\n"
     ]
    }
   ],
   "source": [
    "def factorial(num):\n",
    "    if num<1:\n",
    "        return 1\n",
    "    return num*factorial(num-1)\n",
    "\n",
    "print('factorial(5)--->',factorial(5))\n",
    "print('facorial(3)--->',factorial(3))\n",
    "print('facorial(1)--->',factorial(1))\n",
    "print('facorial(0)--->',factorial(0))"
   ]
  },
  {
   "cell_type": "markdown",
   "metadata": {},
   "source": [
    "#### Question 5\n",
    "#### Write a function that moves all elements of one type to the end of the list.\n",
    "#### Examples\n",
    "#### move_to_end([1, 3, 2, 4, 4, 1], 1) ➞ [3, 2, 4, 4, 1, 1]\n",
    "#### # Move all the 1s to the end of the array.\n",
    "#### move_to_end([7, 8, 9, 1, 2, 3, 4], 9) ➞ [7, 8, 1, 2, 3, 4, 9]\n",
    "#### move_to_end([&quot;a&quot;, &quot;a&quot;, &quot;a&quot;, &quot;b&quot;], &quot;a&quot;) ➞ [&quot;b&quot;, &quot;a&quot;, &quot;a&quot;, &quot;a&quot;]"
   ]
  },
  {
   "cell_type": "code",
   "execution_count": 10,
   "metadata": {},
   "outputs": [
    {
     "name": "stdout",
     "output_type": "stream",
     "text": [
      "move_to_end([1, 3, 2, 4, 4, 1], 1) --->  [3, 2, 4, 4, 1, 1]\n",
      "\n",
      "move_to_end([7, 8, 9, 1, 2, 3, 4], 9) --->  [7, 8, 1, 2, 3, 4, 9]\n",
      "\n",
      "move_to_end([\"a\", \"a\", \"a\", \"b\"], \"a\") --->  ['b', 'a', 'a', 'a']\n"
     ]
    }
   ],
   "source": [
    "def move_to_end(li,key):\n",
    "    for i in li:\n",
    "        if key==i:\n",
    "            li.append(li.pop(li.index(i)))\n",
    "    return li\n",
    "\n",
    "print('move_to_end([1, 3, 2, 4, 4, 1], 1) ---> ',move_to_end([1, 3, 2, 4, 4, 1], 1))\n",
    "print()\n",
    "print('move_to_end([7, 8, 9, 1, 2, 3, 4], 9) ---> ',move_to_end([7, 8, 9, 1, 2, 3, 4], 9))\n",
    "print()\n",
    "print('move_to_end([\"a\", \"a\", \"a\", \"b\"], \"a\") ---> ',move_to_end([\"a\", \"a\", \"a\", \"b\"], \"a\"))"
   ]
  }
 ],
 "metadata": {
  "kernelspec": {
   "display_name": "Python 3",
   "language": "python",
   "name": "python3"
  },
  "language_info": {
   "codemirror_mode": {
    "name": "ipython",
    "version": 3
   },
   "file_extension": ".py",
   "mimetype": "text/x-python",
   "name": "python",
   "nbconvert_exporter": "python",
   "pygments_lexer": "ipython3",
   "version": "3.8.8"
  }
 },
 "nbformat": 4,
 "nbformat_minor": 4
}
