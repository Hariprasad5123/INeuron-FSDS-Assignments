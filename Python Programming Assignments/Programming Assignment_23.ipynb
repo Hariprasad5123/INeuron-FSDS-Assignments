{
 "cells": [
  {
   "cell_type": "markdown",
   "metadata": {},
   "source": [
    "#### Question 1\n",
    "#### Create a function that takes a number as an argument and returns True or False depending on whether the number is symmetrical or not. A number is symmetrical when it is the same as its reverse.\n",
    "#### Examples\n",
    "#### is_symmetrical(7227) ➞ True\n",
    "#### is_symmetrical(12567) ➞ False\n",
    "#### is_symmetrical(44444444) ➞ True\n",
    "#### is_symmetrical(9939) ➞ False\n",
    "#### is_symmetrical(1112111) ➞ True"
   ]
  },
  {
   "cell_type": "code",
   "execution_count": 1,
   "metadata": {},
   "outputs": [
    {
     "name": "stdout",
     "output_type": "stream",
     "text": [
      "is_symmetrical(7227) --->  True\n",
      "\n",
      "is_symmetrical(12567) --->  False\n",
      "\n",
      "is_symmetrical(44444444) --->  True\n",
      "\n",
      "is_symmetrical(9939) --->  False\n",
      "\n",
      "is_symmetrical(1112111) --->  True\n"
     ]
    }
   ],
   "source": [
    "def is_symmetrical(n1):\n",
    "    if str(n1)==str(n1)[::-1]:\n",
    "        return True\n",
    "    return False\n",
    "\n",
    "\n",
    "print('is_symmetrical(7227) ---> ',is_symmetrical(7227))\n",
    "print()\n",
    "print('is_symmetrical(12567) ---> ',is_symmetrical(12567))\n",
    "print()\n",
    "print('is_symmetrical(44444444) ---> ',is_symmetrical(44444444))\n",
    "print()\n",
    "print('is_symmetrical(9939) ---> ',is_symmetrical(9939))\n",
    "print()\n",
    "print('is_symmetrical(1112111) ---> ',is_symmetrical(1112111))"
   ]
  },
  {
   "cell_type": "markdown",
   "metadata": {},
   "source": [
    "#### Question 2\n",
    "#### Given a string of numbers separated by a comma and space, return the product of the numbers.\n",
    "#### Examples\n",
    "#### multiply_nums(&quot;2, 3&quot;) ➞ 6\n",
    "#### multiply_nums(&quot;1, 2, 3, 4&quot;) ➞ 24\n",
    "#### multiply_nums(&quot;54, 75, 453, 0&quot;) ➞ 0\n",
    "#### multiply_nums(&quot;10, -2&quot;) ➞ -20"
   ]
  },
  {
   "cell_type": "code",
   "execution_count": 3,
   "metadata": {},
   "outputs": [
    {
     "name": "stdout",
     "output_type": "stream",
     "text": [
      "multiply_nums(\"2, 3\") --->  6\n",
      "\n",
      "multiply_nums(\"1, 2, 3, 4\") --->  24\n",
      "\n",
      "multiply_nums(\"54, 75, 453, 0\") --->  0\n",
      "\n",
      "multiply_nums(\"10, -2\") --->  -20\n"
     ]
    }
   ],
   "source": [
    "def multiply_nums(my_str):\n",
    "    l = my_str.split(',')\n",
    "    prod = 1\n",
    "    for i in l:\n",
    "        prod *= int(i)\n",
    "    return prod\n",
    "\n",
    "print('multiply_nums(\"2, 3\") ---> ',multiply_nums(\"2, 3\"))\n",
    "print()\n",
    "print('multiply_nums(\"1, 2, 3, 4\") ---> ',multiply_nums(\"1, 2, 3, 4\"))\n",
    "print()\n",
    "print('multiply_nums(\"54, 75, 453, 0\") ---> ',multiply_nums(\"54, 75, 453, 0\"))\n",
    "print()\n",
    "print('multiply_nums(\"10, -2\") ---> ',multiply_nums(\"10, -2\"))"
   ]
  },
  {
   "cell_type": "markdown",
   "metadata": {},
   "source": [
    "#### Question 3\n",
    "#### Create a function that squares every digit of a number.\n",
    "#### Examples\n",
    "#### square_digits(9119) ➞ 811181\n",
    "#### square_digits(2483) ➞ 416649\n",
    "#### square_digits(3212) ➞ 9414\n",
    "#### Notes\n",
    "#### The function receives an integer and must return an integer."
   ]
  },
  {
   "cell_type": "code",
   "execution_count": 7,
   "metadata": {},
   "outputs": [
    {
     "name": "stdout",
     "output_type": "stream",
     "text": [
      "square_digits(9119) --->  811181\n",
      "\n",
      "square_digits(2483) --->  416649\n",
      "\n",
      "square_digits(3212) --->  9414\n"
     ]
    }
   ],
   "source": [
    "def square_digits(n2):\n",
    "    return int(''.join([str(int(i)**2) for i in str(n2)]))\n",
    "\n",
    "print( 'square_digits(9119) ---> ',square_digits(9119))\n",
    "print()\n",
    "print('square_digits(2483) ---> ',square_digits(2483))\n",
    "print()\n",
    "print('square_digits(3212) ---> ',square_digits(3212))"
   ]
  },
  {
   "cell_type": "markdown",
   "metadata": {},
   "source": [
    "#### Question 4\n",
    "#### Create a function that sorts a list and removes all duplicate items from it.\n",
    "#### Examples\n",
    "#### setify([1, 3, 3, 5, 5]) ➞ [1, 3, 5]\n",
    "#### setify([4, 4, 4, 4]) ➞ [4]\n",
    "#### setify([5, 7, 8, 9, 10, 15]) ➞ [5, 7, 8, 9, 10, 15]\n",
    "#### setify([3, 3, 3, 2, 1]) ➞ [1, 2, 3]"
   ]
  },
  {
   "cell_type": "code",
   "execution_count": 9,
   "metadata": {},
   "outputs": [
    {
     "name": "stdout",
     "output_type": "stream",
     "text": [
      "setify([1,3,3,5,5]) --->  [1, 3, 5]\n",
      "\n",
      "setify([4, 4, 4, 4]) --->  [4]\n",
      "\n",
      "setify([5, 7, 8, 9, 10, 15]) --->  [5, 7, 8, 9, 10, 15]\n",
      "\n",
      "setify([3, 3, 3, 2, 1]) --->  [1, 2, 3]\n"
     ]
    }
   ],
   "source": [
    "def setify(l1):\n",
    "    return sorted(list(set(l1)))\n",
    "\n",
    "print('setify([1,3,3,5,5]) ---> ',setify([1,3,3,5,5]))\n",
    "print()\n",
    "print('setify([4, 4, 4, 4]) ---> ',setify([4, 4, 4, 4]))\n",
    "print()\n",
    "print('setify([5, 7, 8, 9, 10, 15]) ---> ',setify([5, 7, 8, 9, 10, 15]))\n",
    "print()\n",
    "print('setify([3, 3, 3, 2, 1]) ---> ',setify([3, 3, 3, 2, 1]))"
   ]
  },
  {
   "cell_type": "markdown",
   "metadata": {},
   "source": [
    "#### Question 5\n",
    "#### Create a function that returns the mean of all digits.\n",
    "#### Examples\n",
    "#### mean(42) ➞ 3\n",
    "#### mean(12345) ➞ 3\n",
    "#### mean(666) ➞ 6\n",
    "#### Notes\n",
    "#### - The mean of all digits is the sum of digits / how many digits there are (e.g. mean of digits in\n",
    "#### 512 is (5+1+2)/3(number of digits) = 8/3=2).\n",
    "#### - The mean will always be an integer."
   ]
  },
  {
   "cell_type": "code",
   "execution_count": 11,
   "metadata": {},
   "outputs": [
    {
     "name": "stdout",
     "output_type": "stream",
     "text": [
      "mean(42) --->  3\n",
      "\n",
      "mean(12345) --->  3\n",
      "\n",
      "mean(666) --->  6\n",
      "\n",
      "mean(512) --->  2\n"
     ]
    }
   ],
   "source": [
    "def mean(n3):\n",
    "    sums = sum([int(i) for i in str(n3)])\n",
    "    return sums//len(str(n3))\n",
    "\n",
    "print('mean(42) ---> ',mean(42))\n",
    "print()\n",
    "print('mean(12345) ---> ',mean(12345))\n",
    "print()\n",
    "print('mean(666) ---> ',mean(666))\n",
    "print()\n",
    "print('mean(512) ---> ',mean(512))"
   ]
  }
 ],
 "metadata": {
  "kernelspec": {
   "display_name": "Python 3",
   "language": "python",
   "name": "python3"
  },
  "language_info": {
   "codemirror_mode": {
    "name": "ipython",
    "version": 3
   },
   "file_extension": ".py",
   "mimetype": "text/x-python",
   "name": "python",
   "nbconvert_exporter": "python",
   "pygments_lexer": "ipython3",
   "version": "3.8.8"
  }
 },
 "nbformat": 4,
 "nbformat_minor": 4
}
