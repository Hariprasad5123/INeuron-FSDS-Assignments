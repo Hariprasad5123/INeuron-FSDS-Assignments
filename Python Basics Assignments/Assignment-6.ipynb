{
 "cells": [
  {
   "cell_type": "markdown",
   "metadata": {},
   "source": [
    "#### 1. What are escape characters, and how do you use them?"
   ]
  },
  {
   "cell_type": "markdown",
   "metadata": {},
   "source": [
    "Some charaters are not allowed in the string. But we can insert characters in the string by using escape character and it is denoted by backslash '/'. We can insert characters in the string followed by escape character."
   ]
  },
  {
   "cell_type": "code",
   "execution_count": 9,
   "metadata": {},
   "outputs": [
    {
     "name": "stdout",
     "output_type": "stream",
     "text": [
      "\"python datascience\"\n",
      "python\n",
      "datascience\n",
      "python\tdatascience\n",
      "python\\datascience\n"
     ]
    }
   ],
   "source": [
    "s = '\\\"python datascience\\\"'\n",
    "print(s)\n",
    "s = 'python\\ndatascience'\n",
    "print(s)\n",
    "s = 'python\\tdatascience'\n",
    "print(s)\n",
    "s = 'python\\\\datascience'\n",
    "print(s)"
   ]
  },
  {
   "cell_type": "markdown",
   "metadata": {},
   "source": [
    "#### 2. What do the escape characters n and t stand for?"
   ]
  },
  {
   "cell_type": "markdown",
   "metadata": {},
   "source": [
    "- The escape character '\\n' means new line. It generates the new line.\n",
    "- The escape charater '\\t' means tab. It generates four spaces."
   ]
  },
  {
   "cell_type": "code",
   "execution_count": 10,
   "metadata": {},
   "outputs": [
    {
     "name": "stdout",
     "output_type": "stream",
     "text": [
      "py\n",
      "thon\n",
      "py\tthon\n"
     ]
    }
   ],
   "source": [
    "st = 'py\\nthon'\n",
    "print(st)\n",
    "st = 'py\\tthon'\n",
    "print(st)"
   ]
  },
  {
   "cell_type": "markdown",
   "metadata": {},
   "source": [
    "#### 3. What is the way to include backslash characters in a string?"
   ]
  },
  {
   "cell_type": "code",
   "execution_count": 11,
   "metadata": {},
   "outputs": [
    {
     "name": "stdout",
     "output_type": "stream",
     "text": [
      "Full\\Stack\\Datascience\n"
     ]
    }
   ],
   "source": [
    "string = 'Full\\\\Stack\\\\Datascience'\n",
    "print(string)"
   ]
  },
  {
   "cell_type": "markdown",
   "metadata": {},
   "source": [
    "#### 4. The string &quot;Howl&#39;s Moving Castle&quot; is a correct value. Why isn&#39;t the single quote character in the word Howl&#39;s not escaped a problem?"
   ]
  },
  {
   "cell_type": "markdown",
   "metadata": {},
   "source": [
    "Because the string is created with double quotes so we can use single quotes inside of the string but we cannot use double quotes inside of the string if we want double quotes inside the string then we have to use escape character."
   ]
  },
  {
   "cell_type": "code",
   "execution_count": 1,
   "metadata": {},
   "outputs": [
    {
     "name": "stdout",
     "output_type": "stream",
     "text": [
      "Howl's Moving Castle\n"
     ]
    }
   ],
   "source": [
    "a = \"Howl's Moving Castle\"\n",
    "print(a)"
   ]
  },
  {
   "cell_type": "markdown",
   "metadata": {},
   "source": [
    "#### 5. How do you write a string of newlines if you don&#39;t want to use the n character?"
   ]
  },
  {
   "cell_type": "code",
   "execution_count": 2,
   "metadata": {},
   "outputs": [
    {
     "name": "stdout",
     "output_type": "stream",
     "text": [
      "This is full stack datascience\n",
      "and I am lucky to find this course in ineuron.\n"
     ]
    }
   ],
   "source": [
    "stri = '''This is full stack datascience\n",
    "and I am lucky to find this course in ineuron.'''\n",
    "print(stri)"
   ]
  },
  {
   "cell_type": "markdown",
   "metadata": {},
   "source": [
    "#### 6. What are the values of the given expressions?\n",
    "&#39;Hello, world!&#39;[1] \\\n",
    "&#39;Hello, world!&#39;[0:5] \\\n",
    "&#39;Hello, world!&#39;[:5] \\\n",
    "&#39;Hello, world!&#39;[3:]"
   ]
  },
  {
   "cell_type": "markdown",
   "metadata": {},
   "source": [
    "- 'Hello, world!'[1] : It returns the character 'e'.\n",
    "- 'Hello, world!'[0:5] : It returns the substring 'Hello'\n",
    "- 'Hello, world!'[:5] : It returns the substring 'Hello'\n",
    "- 'Hello, world!'[3:] : It returns the substring 'lo, world!'"
   ]
  },
  {
   "cell_type": "code",
   "execution_count": 20,
   "metadata": {},
   "outputs": [
    {
     "name": "stdout",
     "output_type": "stream",
     "text": [
      "e\n",
      "Hello\n",
      "Hello\n",
      "lo, world!\n"
     ]
    }
   ],
   "source": [
    "print('Hello, world!'[1])\n",
    "print('Hello, world!'[0:5])\n",
    "print('Hello, world!'[:5])\n",
    "print('Hello, world!'[3:])"
   ]
  },
  {
   "cell_type": "markdown",
   "metadata": {},
   "source": [
    "#### 7. What are the values of the following expressions?\n",
    "&#39;Hello&#39;.upper() \\\n",
    "&#39;Hello&#39;.upper().isupper() \\\n",
    "&#39;Hello&#39;.upper().lower() "
   ]
  },
  {
   "cell_type": "code",
   "execution_count": 25,
   "metadata": {},
   "outputs": [
    {
     "name": "stdout",
     "output_type": "stream",
     "text": [
      "HELLO\n",
      "True\n",
      "hello\n"
     ]
    }
   ],
   "source": [
    "print('Hello'.upper()) #It gives the string in uppercase form.\n",
    "print('Hello'.upper().isupper()) #It checks the string whether it is in uppercase or not by changing it into uppercase form.\n",
    "print('Hello'.upper().lower()) #It changes the string into lowercase form after changing it into uppercase form."
   ]
  },
  {
   "cell_type": "markdown",
   "metadata": {},
   "source": [
    "#### 8. What are the values of the following expressions?\n",
    "&#39;Remember, remember, the fifth of July.&#39;.split() \\\n",
    "&#39;-&#39;.join(&#39;There can only one.&#39;.split())"
   ]
  },
  {
   "cell_type": "code",
   "execution_count": 29,
   "metadata": {},
   "outputs": [
    {
     "name": "stdout",
     "output_type": "stream",
     "text": [
      "['Remember,', 'remember,', 'the', 'fifth', 'of', 'July.']\n",
      "There-can-only-one.\n"
     ]
    }
   ],
   "source": [
    "print('Remember, remember, the fifth of July.'.split()) #It splits the string based on spaces and returns a list of string values.\n",
    "print('-'.join('There can only one.'.split())) #It joins the string with hypen '-' after splitting into list of values."
   ]
  },
  {
   "cell_type": "markdown",
   "metadata": {},
   "source": [
    "#### 9. What are the methods for right-justifying, left-justifying, and centering a string?"
   ]
  },
  {
   "cell_type": "markdown",
   "metadata": {},
   "source": [
    "- rjust() : For right-justifying the string.\n",
    "- ljust() : For left-justifying the string.\n",
    "- center() : For centering the string."
   ]
  },
  {
   "cell_type": "code",
   "execution_count": 32,
   "metadata": {},
   "outputs": [
    {
     "name": "stdout",
     "output_type": "stream",
     "text": [
      "python----\n",
      "----python\n",
      "--python--\n"
     ]
    }
   ],
   "source": [
    "y = 'python'\n",
    "print(y.ljust(10,'-'))\n",
    "print(y.rjust(10,'-'))\n",
    "print(y.center(10,'-'))"
   ]
  },
  {
   "cell_type": "markdown",
   "metadata": {},
   "source": [
    "#### 10. What is the best way to remove whitespace characters from the start or end?"
   ]
  },
  {
   "cell_type": "code",
   "execution_count": 3,
   "metadata": {},
   "outputs": [
    {
     "name": "stdout",
     "output_type": "stream",
     "text": [
      "python\n",
      "python    \n",
      "    python\n"
     ]
    }
   ],
   "source": [
    "z = '    python    '\n",
    "print(z.strip())\n",
    "print(z.lstrip())\n",
    "print(z.rstrip())"
   ]
  }
 ],
 "metadata": {
  "kernelspec": {
   "display_name": "Python 3",
   "language": "python",
   "name": "python3"
  },
  "language_info": {
   "codemirror_mode": {
    "name": "ipython",
    "version": 3
   },
   "file_extension": ".py",
   "mimetype": "text/x-python",
   "name": "python",
   "nbconvert_exporter": "python",
   "pygments_lexer": "ipython3",
   "version": "3.8.8"
  }
 },
 "nbformat": 4,
 "nbformat_minor": 4
}
