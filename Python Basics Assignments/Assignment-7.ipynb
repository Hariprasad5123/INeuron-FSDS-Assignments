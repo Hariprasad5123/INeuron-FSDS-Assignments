{
 "cells": [
  {
   "cell_type": "markdown",
   "metadata": {},
   "source": [
    "#### 1. What is the name of the feature responsible for generating Regex objects?"
   ]
  },
  {
   "cell_type": "markdown",
   "metadata": {},
   "source": [
    "re.compile() function is responsible for generating the regex objects because re.compile() returns regex objects."
   ]
  },
  {
   "cell_type": "markdown",
   "metadata": {},
   "source": [
    "#### 2. Why do raw strings often appear in Regex objects?"
   ]
  },
  {
   "cell_type": "markdown",
   "metadata": {},
   "source": [
    "Raw strings are appeared in regex objects because backslashes do not have to be escaped by using the rawstring that can be used for making the patterns."
   ]
  },
  {
   "cell_type": "markdown",
   "metadata": {},
   "source": [
    "#### 3. What is the return value of the search() method?"
   ]
  },
  {
   "cell_type": "markdown",
   "metadata": {},
   "source": [
    "search() method searches the string for the match if the match is found then it returns match object otherwise it returns None.\n",
    "If there are more matches in the string then it will only returns first occurance of the match."
   ]
  },
  {
   "cell_type": "markdown",
   "metadata": {},
   "source": [
    "#### 4. From a Match item, how do you get the actual strings that match the pattern?"
   ]
  },
  {
   "cell_type": "markdown",
   "metadata": {},
   "source": [
    "The group() method returns strings of the matched text."
   ]
  },
  {
   "cell_type": "code",
   "execution_count": 46,
   "metadata": {},
   "outputs": [
    {
     "name": "stdout",
     "output_type": "stream",
     "text": [
      "('563', '343', '2131')\n",
      "563\n",
      "343\n",
      "2131\n"
     ]
    }
   ],
   "source": [
    "import re\n",
    "\n",
    "st = '563-343-2131'\n",
    "mat = re.match(r\"(\\d{3})-(\\d{3})-(\\d{4})\",st)\n",
    "print(mat.groups())\n",
    "print(mat.group(1))\n",
    "print(mat.group(2))\n",
    "print(mat.group(3))"
   ]
  },
  {
   "cell_type": "markdown",
   "metadata": {},
   "source": [
    "#### 5. In the regex which created from the r&#39;(\\d\\d\\d)-(\\d\\d\\d-\\d\\d\\d\\d)&#39;, what does group zero cover? Group 2? Group 1?"
   ]
  },
  {
   "cell_type": "code",
   "execution_count": 1,
   "metadata": {},
   "outputs": [
    {
     "name": "stdout",
     "output_type": "stream",
     "text": [
      "('563', '343-2131')\n",
      "563-343-2131\n",
      "563\n",
      "343-2131\n"
     ]
    }
   ],
   "source": [
    "import re\n",
    "\n",
    "st = '563-343-2131'\n",
    "mat = re.match(r\"(\\d{3})-(\\d{3}-\\d{4})\",st)\n",
    "print(mat.groups())\n",
    "print(mat.group(0))\n",
    "print(mat.group(1))\n",
    "print(mat.group(2))"
   ]
  },
  {
   "cell_type": "markdown",
   "metadata": {},
   "source": [
    "#### 6. In standard expression syntax, parentheses and intervals have distinct meanings. How can you tell a regex that you want it to fit real parentheses and periods?"
   ]
  },
  {
   "cell_type": "markdown",
   "metadata": {},
   "source": [
    "For using the parenthesis and periods in the regex pattern we can use backslash. "
   ]
  },
  {
   "cell_type": "code",
   "execution_count": 71,
   "metadata": {},
   "outputs": [
    {
     "name": "stdout",
     "output_type": "stream",
     "text": [
      "['(23)', '(48)']\n",
      "<re.Match object; span=(0, 14), match='www.google.com'>\n",
      "<re.Match object; span=(28, 44), match='www.facebook.com'>\n",
      "<re.Match object; span=(45, 62), match='www.w3schools.edu'>\n",
      "<re.Match object; span=(63, 79), match='www.instagram.in'>\n"
     ]
    }
   ],
   "source": [
    "import re\n",
    "\n",
    "s1 = \"(23) 56) (90 (48)\"\n",
    "pattern1 = re.compile(r\"\\(\\d{2}\\)\")\n",
    "print(pattern1.findall(s1)) \n",
    "\n",
    "s2 = \"www.google.com wew.yahoo.in www.facebook.com www.w3schools.edu www.instagram.in\"\n",
    "pattern2 = re.compile(r\"(w{3}\\.)(\\w+)(\\.(com|in|edu))\")\n",
    "matches = pattern2.finditer(s2)\n",
    "for i in matches:\n",
    "    print(i)"
   ]
  },
  {
   "cell_type": "markdown",
   "metadata": {},
   "source": [
    "#### 7. The findall() method returns a string list or a list of string tuples. What causes it to return one of the two options?"
   ]
  },
  {
   "cell_type": "markdown",
   "metadata": {},
   "source": [
    "- findall()\n",
    " -   returns a string list when it has no groups.\n",
    " -  returns a list of string tuples when it has groups."
   ]
  },
  {
   "cell_type": "code",
   "execution_count": 4,
   "metadata": {},
   "outputs": [
    {
     "name": "stdout",
     "output_type": "stream",
     "text": [
      "['python', 'python']\n"
     ]
    }
   ],
   "source": [
    "#below code returns a string list\n",
    "r=re.compile('python')\n",
    "s=re.findall(r,'python is a programming, python has a big library')\n",
    "print(s)"
   ]
  },
  {
   "cell_type": "markdown",
   "metadata": {},
   "source": [
    "#### 8. In standard expressions, what does the | character mean?"
   ]
  },
  {
   "cell_type": "markdown",
   "metadata": {},
   "source": [
    "- | character is used to check either or condition."
   ]
  },
  {
   "cell_type": "code",
   "execution_count": 6,
   "metadata": {},
   "outputs": [
    {
     "name": "stdout",
     "output_type": "stream",
     "text": [
      "['python', 'C']\n"
     ]
    }
   ],
   "source": [
    "s=re.findall('python|C','python vs C')\n",
    "print(s)"
   ]
  },
  {
   "cell_type": "markdown",
   "metadata": {},
   "source": [
    "#### 9. In regular expressions, what does the character stand for?"
   ]
  },
  {
   "cell_type": "markdown",
   "metadata": {},
   "source": [
    "- A character in regular expressions stands for it may be a string, or special character or a metacharacter or a literal that has meaning"
   ]
  },
  {
   "cell_type": "markdown",
   "metadata": {},
   "source": [
    "#### 10. In regular expressions, what is the difference between the + and * characters?"
   ]
  },
  {
   "cell_type": "markdown",
   "metadata": {},
   "source": [
    "- In regular expressions\n",
    "  - matches one or more occurances of pattern\n",
    "  -  matches zero or more occurances of a pattern"
   ]
  },
  {
   "cell_type": "code",
   "execution_count": 15,
   "metadata": {
    "scrolled": true
   },
   "outputs": [
    {
     "name": "stdout",
     "output_type": "stream",
     "text": [
      "[]\n",
      "No match\n"
     ]
    }
   ],
   "source": [
    "#below code is for +\n",
    "r=re.findall('hi+','hello how are you')\n",
    "print(r)\n",
    "if r:\n",
    "    print('one or more match')\n",
    "else:\n",
    "    print(\"No match\")"
   ]
  },
  {
   "cell_type": "code",
   "execution_count": 21,
   "metadata": {},
   "outputs": [
    {
     "name": "stdout",
     "output_type": "stream",
     "text": [
      "['yo']\n",
      "zero or more match\n"
     ]
    }
   ],
   "source": [
    "#below code is for *\n",
    "r=re.findall('yoi*','hai how are you')\n",
    "print(r)\n",
    "if r:\n",
    "    print('zero or more match')\n",
    "else:\n",
    "    print(\"No match\")"
   ]
  },
  {
   "cell_type": "markdown",
   "metadata": {},
   "source": [
    "#### 11. What is the difference between {4} and {4,5} in regular expression?"
   ]
  },
  {
   "cell_type": "markdown",
   "metadata": {},
   "source": [
    "- {4} matches the specified string 4 times exactly but not less than 3.\n",
    "- {4,5} 4 represents minimum and 5 represents maximum , matches the string 4 or 5 times."
   ]
  },
  {
   "cell_type": "code",
   "execution_count": 23,
   "metadata": {},
   "outputs": [
    {
     "name": "stdout",
     "output_type": "stream",
     "text": [
      "HiHiHiHi\n",
      "None\n"
     ]
    }
   ],
   "source": [
    "r=re.compile(r'(Hi){4}')\n",
    "s=r.search('HiHiHiHi')\n",
    "print(s.group())\n",
    "s=r.search('HiHiHi')\n",
    "print(s)"
   ]
  },
  {
   "cell_type": "code",
   "execution_count": 3,
   "metadata": {},
   "outputs": [
    {
     "name": "stdout",
     "output_type": "stream",
     "text": [
      "hellohellohellohellohello\n",
      "None\n"
     ]
    }
   ],
   "source": [
    "r=re.compile(r'(hello){4,5}')\n",
    "s=r.search('hellohellohellohellohello')\n",
    "print(s.group())\n",
    "s=r.search('hellohello')\n",
    "print(s)"
   ]
  },
  {
   "cell_type": "markdown",
   "metadata": {},
   "source": [
    "#### 12. What do you mean by the \\d, \\w, and \\s shorthand character classes signify in regular expressions?"
   ]
  },
  {
   "cell_type": "markdown",
   "metadata": {},
   "source": [
    "- \\d shorthand character class signify single digit in regular expressions\n",
    "- \\w shorthand character class signify single word in regular expressions\n",
    "- \\s shorthand character class signify space character in regular expressions"
   ]
  },
  {
   "cell_type": "code",
   "execution_count": 4,
   "metadata": {},
   "outputs": [
    {
     "name": "stdout",
     "output_type": "stream",
     "text": [
      "['9a ']\n",
      "[]\n"
     ]
    }
   ],
   "source": [
    "r=re.compile(r'\\d\\w\\s')\n",
    "s=re.findall(r,\"9a \")\n",
    "s1=re.findall(r,\"a#b\")\n",
    "print(s)\n",
    "print(s1)"
   ]
  },
  {
   "cell_type": "markdown",
   "metadata": {},
   "source": [
    "#### 13. What do means by \\D, \\W, and \\S shorthand character classes signify in regular expressions?"
   ]
  },
  {
   "cell_type": "markdown",
   "metadata": {},
   "source": [
    "- \\D matches any character which is not a decimal digit opposite of \\d [^0-9].\n",
    "- \\W matches any character which is not a word character opposite of \\W.\n",
    "- \\S matches any character which is not a white space character."
   ]
  },
  {
   "cell_type": "code",
   "execution_count": 5,
   "metadata": {},
   "outputs": [
    {
     "name": "stdout",
     "output_type": "stream",
     "text": [
      "['a#t']\n",
      "[]\n"
     ]
    }
   ],
   "source": [
    "r=re.compile(r'\\D\\W\\S')\n",
    "s=re.findall(r,\"a#t\") # here it is matched to exactly opposite of \\d\\w\\s\n",
    "s1=re.findall(r,\"9a \") \n",
    "print(s)\n",
    "print(s1)"
   ]
  },
  {
   "cell_type": "markdown",
   "metadata": {},
   "source": [
    "#### 14. What is the difference between .*? and .*?"
   ]
  },
  {
   "cell_type": "markdown",
   "metadata": {},
   "source": [
    "- In . -> . represents a match for any single character except the newline character, represent zero or more characters.\n",
    "- .* represents that any character zero or more times."
   ]
  },
  {
   "cell_type": "code",
   "execution_count": 6,
   "metadata": {
    "scrolled": true
   },
   "outputs": [
    {
     "name": "stdout",
     "output_type": "stream",
     "text": [
      "['aabazaaba', '', 'aaa', '']\n",
      "['aabaaabaab']\n"
     ]
    }
   ],
   "source": [
    "r=re.compile(r'.*')\n",
    "print(re.findall(r,'aabazaaba\\naaa'))\n",
    "\n",
    "r=re.compile(r'a.*b')\n",
    "print(re.findall(r,'aabaaabaab'))"
   ]
  },
  {
   "cell_type": "markdown",
   "metadata": {},
   "source": [
    "- .*? represents it matches a few characters a possible using least repitions that match is the successfull."
   ]
  },
  {
   "cell_type": "code",
   "execution_count": 7,
   "metadata": {},
   "outputs": [
    {
     "name": "stdout",
     "output_type": "stream",
     "text": [
      "['', 'a', '', 'a', '', 'b', '', 'a', '', '', 'a', '', 'a', '', 'a', '']\n",
      "['aab', 'aaab', 'aab']\n"
     ]
    }
   ],
   "source": [
    "r=re.compile(r'.*?')\n",
    "print(re.findall(r,'aaba\\naaa'))\n",
    "\n",
    "r=re.compile(r'a.*?b')\n",
    "print(re.findall(r,'aabaaabaab'))"
   ]
  },
  {
   "cell_type": "markdown",
   "metadata": {},
   "source": [
    "#### 15. What is the syntax for matching both numbers and lowercase letters with a character class?"
   ]
  },
  {
   "cell_type": "markdown",
   "metadata": {},
   "source": [
    "- The syntax for matching both numbers and lowercase letters with a character class is [0-9a-z] or [a-z0-9]."
   ]
  },
  {
   "cell_type": "code",
   "execution_count": 8,
   "metadata": {},
   "outputs": [
    {
     "name": "stdout",
     "output_type": "stream",
     "text": [
      "['9d', 'at', 'a9', '90']\n"
     ]
    }
   ],
   "source": [
    "r = re.compile(r'.[0-9a-z]')\n",
    "print(re.findall(r,'9data9901'))"
   ]
  },
  {
   "cell_type": "markdown",
   "metadata": {},
   "source": [
    "#### 16. What is the procedure for making a normal expression in regax case insensitive?"
   ]
  },
  {
   "cell_type": "markdown",
   "metadata": {},
   "source": [
    "- Passing re.I or re.IGNORECASE as the second argument to re.compile() will make the matching case insensitive."
   ]
  },
  {
   "cell_type": "code",
   "execution_count": 10,
   "metadata": {},
   "outputs": [
    {
     "name": "stdout",
     "output_type": "stream",
     "text": [
      "['ABCDE']\n",
      "['abcd']\n"
     ]
    }
   ],
   "source": [
    "r=re.compile('abcde',re.I)\n",
    "print(re.findall(r,'ABCDE'))\n",
    "\n",
    "r=re.compile('ABCD',re.IGNORECASE)\n",
    "print(re.findall(r,'abcd'))"
   ]
  },
  {
   "cell_type": "markdown",
   "metadata": {},
   "source": [
    "#### 17. What does the . character normally match? What does it match if re.DOTALL is passed as 2nd argument in re.compile()?"
   ]
  },
  {
   "cell_type": "markdown",
   "metadata": {},
   "source": [
    "- The . character normally matches all characters except newline characters.\n",
    "- If re.DOTALL is passed as 2nd argument in re.compile() is matches all characters and newline characters also."
   ]
  },
  {
   "cell_type": "code",
   "execution_count": 11,
   "metadata": {
    "scrolled": true
   },
   "outputs": [
    {
     "name": "stdout",
     "output_type": "stream",
     "text": [
      "['abc', '', 'abc', '']\n",
      "['abc\\nabc', '']\n"
     ]
    }
   ],
   "source": [
    "r = re.compile('.*')\n",
    "print(re.findall(r,'abc\\nabc'))\n",
    "\n",
    "r = re.compile('.*',re.DOTALL)\n",
    "print(re.findall(r,'abc\\nabc'))"
   ]
  },
  {
   "cell_type": "markdown",
   "metadata": {},
   "source": [
    "#### 18. If numReg = re.compile(r&#39;\\d+&#39;), what will numRegex.sub(&#39;X&#39;, &#39;11 drummers, 10 pipers, five rings, 4 hen&#39;) return?"
   ]
  },
  {
   "cell_type": "markdown",
   "metadata": {},
   "source": [
    "- It returns the following\n",
    "   -   X drummers, X pipers, five rings, X hen"
   ]
  },
  {
   "cell_type": "code",
   "execution_count": 12,
   "metadata": {},
   "outputs": [
    {
     "name": "stdout",
     "output_type": "stream",
     "text": [
      "X drummers, X pipers, five rings, X hen\n"
     ]
    }
   ],
   "source": [
    "numReg = re.compile(r'\\d+')\n",
    "print(numReg.sub('X', '11 drummers, 10 pipers, five rings, 4 hen'))"
   ]
  },
  {
   "cell_type": "markdown",
   "metadata": {},
   "source": [
    "#### 19. What does passing re.VERBOSE as the 2nd argument to re.compile() allow to do?"
   ]
  },
  {
   "cell_type": "markdown",
   "metadata": {},
   "source": [
    "- Passing re.VERBOSE as the 2nd argument to re.compile() allows us add comments,whitespace which makes pattern more readable and understandable."
   ]
  },
  {
   "cell_type": "markdown",
   "metadata": {},
   "source": [
    "#### 20. How would you write a regex that match a number with comma for every three digits? It must\n",
    "match the given following: \\\n",
    "&#39;42&#39; \\\n",
    "&#39;1,234&#39; \\\n",
    "&#39;6,368,745&#39; \\\n",
    "but not the following: \\\n",
    "&#39;12,34,567&#39; (which has only two digits between the commas) \\\n",
    "&#39;1234&#39; (which lacks commas)"
   ]
  },
  {
   "cell_type": "code",
   "execution_count": 13,
   "metadata": {},
   "outputs": [
    {
     "name": "stdout",
     "output_type": "stream",
     "text": [
      "42 matched the pattern\n",
      "1,234 matched the pattern\n",
      "6,368,745 matched the pattern\n",
      "12,34,567 has not matched the pattern\n",
      "1234 has not matched the pattern\n"
     ]
    }
   ],
   "source": [
    "r =re.compile(r'^\\d{1,3}(,\\d{3})*$')\n",
    "l=['42','1,234','6,368,745','12,34,567','1234']\n",
    "for i in l:\n",
    "    if re.findall(r,i):\n",
    "        print(f'{i} matched the pattern')\n",
    "    else:\n",
    "        print(f'{i} has not matched the pattern')"
   ]
  },
  {
   "cell_type": "markdown",
   "metadata": {},
   "source": [
    "#### 21. How would you write a regex that matches the full name of someone whose last name is Watanabe? You can assume that the first name that comes before it will always be one word that begins with a capital letter. The regex must match the following:\n",
    "&#39;Haruto Watanabe&#39; \\\n",
    "&#39;Alice Watanabe&#39; \\\n",
    "&#39;RoboCop Watanabe&#39; \\\n",
    "but not the following: \\\n",
    "&#39;haruto Watanabe&#39; (where the first name is not capitalized) \\\n",
    "&#39;Mr. Watanabe&#39; (where the preceding word has a nonletter character) \\\n",
    "&#39;Watanabe&#39; (which has no first name) \\\n",
    "&#39;Haruto watanabe&#39; (where Watanabe is not capitalized) \\"
   ]
  },
  {
   "cell_type": "code",
   "execution_count": 14,
   "metadata": {},
   "outputs": [
    {
     "name": "stdout",
     "output_type": "stream",
     "text": [
      "Haruto Watanabe matched the pattern\n",
      "Alice Watanabe matched the pattern\n",
      "RoboCop Watanabe matched the pattern\n",
      "haruto Watanabe not matched the pattern\n",
      "Mr. Watanabe not matched the pattern\n",
      "Watanabe not matched the pattern\n",
      "Haruto watanabe not matched the pattern\n"
     ]
    }
   ],
   "source": [
    "r=re.compile(r'^[A-Z][A-za-z]*\\sWatanabe')\n",
    "l=['Haruto Watanabe','Alice Watanabe','RoboCop Watanabe','haruto Watanabe','Mr. Watanabe','Watanabe','Haruto watanabe']\n",
    "for i in l:\n",
    "    if re.findall(r,i):\n",
    "        print(f\"{i} matched the pattern\")\n",
    "    else:\n",
    "        print(f\"{i} not matched the pattern\")"
   ]
  },
  {
   "cell_type": "markdown",
   "metadata": {},
   "source": [
    "#### 22. How would you write a regex that matches a sentence where the first word is either Alice, Bob, or Carol; the second word is either eats, pets, or throws; the third word is apples, cats, or baseballs; and the sentence ends with a period? This regex should be case-insensitive. It must match the following: \\\n",
    "&#39;Alice eats apples.&#39; \\\n",
    "&#39;Bob pets cats.&#39; \\\n",
    "&#39;Carol throws baseballs.&#39; \\\n",
    "&#39;Alice throws Apples.&#39; \\\n",
    "&#39;BOB EATS CATS.&#39; \\\n",
    "but not the following: \\ \n",
    "&#39;RoboCop eats apples.&#39; \\\n",
    "&#39;ALICE THROWS FOOTBALLS.&#39; \\\n",
    "&#39;Carol eats 7 cats.&#39; "
   ]
  },
  {
   "cell_type": "code",
   "execution_count": 16,
   "metadata": {},
   "outputs": [
    {
     "name": "stdout",
     "output_type": "stream",
     "text": [
      "Alice eats apples. matched the pattern\n",
      "Bob pets cats. matched the pattern\n",
      "Carol throws baseballs. matched the pattern\n",
      "Alice throws Apples. matched the pattern\n",
      "BOB EATS CATS. matched the pattern\n",
      "RoboCop eats apples. not matched the pattern\n",
      "ALICE THROWS FOOTBALLS. not matched the pattern\n",
      "Carol eats 7 cats. not matched the pattern\n"
     ]
    }
   ],
   "source": [
    "r = re.compile(r'^(Alice|Bob|Carol)\\s(eats|pets|throws)\\s(apples|cats|baseballs).',re.IGNORECASE)\n",
    "l=['Alice eats apples.','Bob pets cats.','Carol throws baseballs.','Alice throws Apples.','BOB EATS CATS.','RoboCop eats apples.','ALICE THROWS FOOTBALLS.','Carol eats 7 cats.']\n",
    "for i in l:\n",
    "    if re.findall(r,i):\n",
    "        print(f\"{i} matched the pattern\")\n",
    "    else:\n",
    "        print(f\"{i} not matched the pattern\")"
   ]
  }
 ],
 "metadata": {
  "kernelspec": {
   "display_name": "Python 3",
   "language": "python",
   "name": "python3"
  },
  "language_info": {
   "codemirror_mode": {
    "name": "ipython",
    "version": 3
   },
   "file_extension": ".py",
   "mimetype": "text/x-python",
   "name": "python",
   "nbconvert_exporter": "python",
   "pygments_lexer": "ipython3",
   "version": "3.8.8"
  }
 },
 "nbformat": 4,
 "nbformat_minor": 4
}
