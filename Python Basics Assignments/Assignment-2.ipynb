{
 "cells": [
  {
   "cell_type": "markdown",
   "metadata": {},
   "source": [
    "#### 1.What are the two values of the Boolean data type? How do you write them?"
   ]
  },
  {
   "cell_type": "code",
   "execution_count": 2,
   "metadata": {},
   "outputs": [
    {
     "name": "stdout",
     "output_type": "stream",
     "text": [
      "True\n",
      "False\n",
      "True\n",
      "False\n"
     ]
    }
   ],
   "source": [
    "#Boolean data type values are True and False\n",
    "#It can be write directly or by using the conditional statements \n",
    "print(True)\n",
    "print(False)\n",
    "print(1==1)\n",
    "print(1==0)"
   ]
  },
  {
   "cell_type": "markdown",
   "metadata": {},
   "source": [
    "2. What are the three different types of Boolean operators?"
   ]
  },
  {
   "cell_type": "markdown",
   "metadata": {},
   "source": [
    "- and : It is 'and' operator which takes two arguments. If both arguments are True then 'and' operator returns True otherwise it returns False.\n",
    "\n",
    "\n",
    "- or : It is 'or' operator which takes two arguments. If one of the two aruguments is True or if both are True then 'or' operator returns True otherwise it returns False.\n",
    "\n",
    "\n",
    "- not : It is 'not' operator which takes only one arugument. If that arugument is True then 'not' operator returns False otherwise it returns False."
   ]
  },
  {
   "cell_type": "code",
   "execution_count": 11,
   "metadata": {},
   "outputs": [
    {
     "name": "stdout",
     "output_type": "stream",
     "text": [
      "And operator :  True\n",
      "And operator :  False\n",
      "Or operator :  True\n",
      "Or operator :  False\n",
      "Not operator :  True\n",
      "Not operator :  False\n"
     ]
    }
   ],
   "source": [
    "print('And operator : ',1==1 and 90!=0)\n",
    "print('And operator : ',True and False)\n",
    "print('Or operator : ',6!=0 or 9)\n",
    "print('Or operator : ',9<8 or 78<9)\n",
    "print('Not operator : ',not 9!=9)\n",
    "print('Not operator : ',not 8>6)"
   ]
  },
  {
   "cell_type": "markdown",
   "metadata": {},
   "source": [
    "#### 3. Make a list of each Boolean operator&#39;s truth tables (i.e. every possible combination of Boolean values for the operator and what it evaluate)."
   ]
  },
  {
   "cell_type": "markdown",
   "metadata": {},
   "source": [
    "##### AND operator\n",
    "\n",
    "|     a     |      b      |    a  and  b     |\n",
    "|-----------|-------------|------------------|\n",
    "|    True   |     True    |       True       |\n",
    "|-----------|-------------|------------------|\n",
    "|    True   |     False   |       False      |\n",
    "|-----------|-------------|------------------|\n",
    "|    False  |     True    |       False      |\n",
    "|-----------|-------------|------------------|\n",
    "|    False  |     False   |       False      |\n",
    "\n",
    "\n",
    "##### OR operator\n",
    "\n",
    "|     a     |      b      |    a  or  b      |\n",
    "|-----------|-------------|------------------|\n",
    "|    True   |     True    |       True       |\n",
    "|-----------|-------------|------------------|\n",
    "|    True   |     False   |       True       |\n",
    "|-----------|-------------|------------------|\n",
    "|    False  |     True    |       True       |\n",
    "|-----------|-------------|------------------|\n",
    "|    False  |     False   |       False      |\n",
    "\n",
    "\n",
    "##### AND operator\n",
    "\n",
    "|     a     |    not a    |  \n",
    "|-----------|-------------|\n",
    "|    True   |     False   | \n",
    "|-----------|-------------|\n",
    "|    False  |     True    |\n",
    "\n",
    "\n",
    "\n"
   ]
  },
  {
   "cell_type": "markdown",
   "metadata": {},
   "source": [
    "#### 4. What are the values of the following expressions?\n",
    "##### (5 &gt; 4) and (3 == 5)\n",
    "##### not (5 &gt; 4)\n",
    "##### (5 &gt; 4) or (3 == 5)\n",
    "##### not ((5 &gt; 4) or (3 == 5))\n",
    "##### (True and True) and (True == False)\n",
    "##### (not False) or (not True)"
   ]
  },
  {
   "cell_type": "markdown",
   "metadata": {},
   "source": [
    "- (5 > 4) and (3 == 5) : It returns False.\n",
    "\n",
    "\n",
    "- not (5 > 4) : It return False.\n",
    "\n",
    "\n",
    "- ( 5 > 4 ) or (3 == 5) : It returns True.\n",
    "\n",
    "\n",
    "- not ((5 > 4) or (3 == 5)) : It returns False.\n",
    "\n",
    "\n",
    "- (True and True) and (True == False) : It returns False.\n",
    "\n",
    "\n",
    "- (not False) or (not True) : It returns True."
   ]
  },
  {
   "cell_type": "code",
   "execution_count": 12,
   "metadata": {},
   "outputs": [
    {
     "name": "stdout",
     "output_type": "stream",
     "text": [
      "False\n",
      "False\n",
      "True\n",
      "False\n",
      "False\n",
      "True\n"
     ]
    }
   ],
   "source": [
    "print((5 > 4) and (3 == 5))\n",
    "print(not (5 > 4))\n",
    "print((5 > 4) or (3 == 5))\n",
    "print(not ((5 > 4) or (3 == 5)))\n",
    "print((True and True) and (True == False))\n",
    "print((not False) or (not True))"
   ]
  },
  {
   "cell_type": "markdown",
   "metadata": {},
   "source": [
    "#### 5. What are the six comparison operators?"
   ]
  },
  {
   "cell_type": "markdown",
   "metadata": {},
   "source": [
    "Six comparison operators : \n",
    "- Less than (<) \n",
    "- Greater than (>) \n",
    "- Equal to (==) \n",
    "- Not Equal to (!=) \n",
    "- Less than or Equal to (<=) \n",
    "- Greater than or Equal to (>=) "
   ]
  },
  {
   "cell_type": "markdown",
   "metadata": {},
   "source": [
    "#### 6. How do you tell the difference between the equal to and assignment operators?Describe a condition and when you would use one."
   ]
  },
  {
   "cell_type": "markdown",
   "metadata": {},
   "source": [
    "Actually, Equal to operator is represented as (==) and it is used for comparison of two entities whether they are equal or not. But Assignment operator is represented as (=) and it is used for assigning some value into the variables or for better understanding purpose, for storing some value into the variable then we can use assignment operator."
   ]
  },
  {
   "cell_type": "code",
   "execution_count": 9,
   "metadata": {},
   "outputs": [
    {
     "name": "stdout",
     "output_type": "stream",
     "text": [
      "False\n",
      "False\n",
      "True\n",
      "False\n",
      "True\n",
      "15\n",
      "8\n",
      "False\n"
     ]
    }
   ],
   "source": [
    "#Comparing two values for Equality\n",
    "print(90==78)\n",
    "print(87==7)\n",
    "print(15==15)\n",
    "print(15==3)\n",
    "print(6==6)\n",
    "\n",
    "#Assignment operator for storing value into variable\n",
    "value_1 = 10\n",
    "value_2 = 5\n",
    "print(value_1+value_2)\n",
    "value_1=3\n",
    "print(value_1+value_2)\n",
    "\n",
    "print(value_1==value_2)"
   ]
  },
  {
   "cell_type": "markdown",
   "metadata": {},
   "source": [
    "7. Identify the three blocks in this code: \\\n",
    "spam = 0 \\\n",
    "if spam == 10: \\\n",
    "print(&#39;eggs&#39;)\\\n",
    "if spam &gt; 5:\\\n",
    "print(&#39;bacon&#39;)\\\n",
    "else:\\\n",
    "print(&#39;ham&#39;)\\\n",
    "print(&#39;spam&#39;)\\\n",
    "print(&#39;spam&#39;)"
   ]
  },
  {
   "cell_type": "code",
   "execution_count": 11,
   "metadata": {},
   "outputs": [
    {
     "name": "stdout",
     "output_type": "stream",
     "text": [
      "ham\n",
      "spam\n",
      "spam\n"
     ]
    }
   ],
   "source": [
    "spam = 0\n",
    "if spam == 10:\n",
    "    print('eggs')\n",
    "    \n",
    "if spam > 5:\n",
    "    print('bacon')\n",
    "else:\n",
    "    print('ham')\n",
    "    \n",
    "print('spam')\n",
    "print('spam')"
   ]
  },
  {
   "cell_type": "markdown",
   "metadata": {},
   "source": [
    "#### 8. Write code that prints Hello if 1 is stored in spam, prints Howdy if 2 is stored in spam, and prints Greetings! if anything else is stored in spam."
   ]
  },
  {
   "cell_type": "code",
   "execution_count": 13,
   "metadata": {},
   "outputs": [
    {
     "name": "stdout",
     "output_type": "stream",
     "text": [
      "Greetings!\n"
     ]
    }
   ],
   "source": [
    "spam = 3\n",
    "if spam==1:\n",
    "    print('Hello')\n",
    "elif spam==2:\n",
    "    print('Howdy')\n",
    "else:\n",
    "    print('Greetings!')"
   ]
  },
  {
   "cell_type": "markdown",
   "metadata": {},
   "source": [
    "#### 9.If your programm is stuck in an endless loop, what keys you’ll press?"
   ]
  },
  {
   "cell_type": "markdown",
   "metadata": {},
   "source": [
    "If program is stuck in an endless loop then we can stop it with pressing ctrl+c on keyboard."
   ]
  },
  {
   "cell_type": "markdown",
   "metadata": {},
   "source": [
    "#### 10. How can you tell the difference between break and continue?"
   ]
  },
  {
   "cell_type": "markdown",
   "metadata": {},
   "source": [
    "- Break keyword is used for terminating the loop.\n",
    "- Continue keyword is used for skipping the current iteration in the loop."
   ]
  },
  {
   "cell_type": "code",
   "execution_count": 1,
   "metadata": {},
   "outputs": [
    {
     "name": "stdout",
     "output_type": "stream",
     "text": [
      "1 2 4 "
     ]
    }
   ],
   "source": [
    "for i in range(1,10):\n",
    "    if i==5:\n",
    "        break\n",
    "    if i==3:\n",
    "        continue\n",
    "    print(i,end=' ')\n",
    "    "
   ]
  },
  {
   "cell_type": "markdown",
   "metadata": {},
   "source": [
    "#### 11. In a for loop, what is the difference between range(10), range(0, 10), and range(0, 10, 1)?"
   ]
  },
  {
   "cell_type": "markdown",
   "metadata": {},
   "source": [
    "- range(10) : It runs for loop from 0 to 9 excluding 10 and it takes starting value is 0 and step size is 1 as default.\n",
    "- range(0,10) : It runs for loop from 0 to 9 excluding 10 but here starting value is specified as 0 and stepsize is 1 as default.\n",
    "- range(0,10,1) : It runs for loop from 0 to 9 excluding 10 but here starting,ending and step size is specified manually."
   ]
  },
  {
   "cell_type": "markdown",
   "metadata": {},
   "source": [
    "#### 12. Write a short program that prints the numbers 1 to 10 using a for loop. Then write an equivalent program that prints the numbers 1 to 10 using a while loop."
   ]
  },
  {
   "cell_type": "code",
   "execution_count": 3,
   "metadata": {},
   "outputs": [
    {
     "name": "stdout",
     "output_type": "stream",
     "text": [
      "1 2 3 4 5 6 7 8 9 10 "
     ]
    }
   ],
   "source": [
    "i = 1\n",
    "while i<=10:\n",
    "    print(i,end=' ')\n",
    "    i+=1"
   ]
  },
  {
   "cell_type": "markdown",
   "metadata": {},
   "source": [
    "#### 13. If you had a function named bacon() inside a module named spam, how would you call it after importing spam?"
   ]
  },
  {
   "cell_type": "markdown",
   "metadata": {},
   "source": [
    "import spam\n",
    "\n",
    "spam.bacon()"
   ]
  }
 ],
 "metadata": {
  "kernelspec": {
   "display_name": "Python 3",
   "language": "python",
   "name": "python3"
  },
  "language_info": {
   "codemirror_mode": {
    "name": "ipython",
    "version": 3
   },
   "file_extension": ".py",
   "mimetype": "text/x-python",
   "name": "python",
   "nbconvert_exporter": "python",
   "pygments_lexer": "ipython3",
   "version": "3.8.8"
  }
 },
 "nbformat": 4,
 "nbformat_minor": 4
}
