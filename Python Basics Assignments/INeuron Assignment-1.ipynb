{
 "cells": [
  {
   "cell_type": "markdown",
   "metadata": {},
   "source": [
    "#### 1. In the below elements which of them are values or an expression? \n",
    "#### eg:- values can be integer or string and expressions will be mathematical operators."
   ]
  },
  {
   "cell_type": "markdown",
   "metadata": {},
   "source": [
    " (*) : It is a mathematical Expression. It is called multiplication operator and used for multiplication.\n",
    " \n",
    " 'hello' : It is a string and string is a collection of characters.\n",
    " \n",
    " -87.8 : It is negative floating point number.\n",
    " \n",
    " (-) : It is mathematical expression called as Subtraction operator used for subtraction.\n",
    " \n",
    " (+) : It is mathematical expression called as Addition operator used for addition.\n",
    " \n",
    " 6 : It is an integer called as 6."
   ]
  },
  {
   "cell_type": "markdown",
   "metadata": {},
   "source": [
    "#### 2. What is the difference between string and variable?"
   ]
  },
  {
   "cell_type": "markdown",
   "metadata": {},
   "source": [
    "String is a type of value as collection of characters which is used for storing the words as a sentence with that we can perform string operations in programming.\n",
    "String contains indices which is start from 0 to length of the string-1 with that we can access the characters of the string. \n",
    "\n",
    "Variable can called as a container which is able to storing the values such as numbers, strings and so on and values can varied in the varibles. Variable are helpful for referencing the values with that we can perform computations on values by referencing the variables which stores the values in programming. \n",
    "Variables provides the identity to the values."
   ]
  },
  {
   "cell_type": "markdown",
   "metadata": {},
   "source": [
    "#### 3. Describe three different data types."
   ]
  },
  {
   "cell_type": "markdown",
   "metadata": {},
   "source": [
    "DataTypes\n",
    "\n",
    "- int : It is integer data type with the help of this we  can store the postive and negative whole numbers. In python there is no limit to how long an integer can be.\n",
    " \n",
    " \n",
    "- float : It is float data type with the help of this we can store the positive and negative decimal numbers.\n",
    "    \n",
    "    \n",
    "- bool : It is boolean data type which has only two values such as True or False and 1 or 0.\n",
    "    "
   ]
  },
  {
   "cell_type": "markdown",
   "metadata": {},
   "source": [
    "#### 4. What is an expression made up of? What do all expressions do?"
   ]
  },
  {
   "cell_type": "markdown",
   "metadata": {},
   "source": [
    "- Expression is a combination of operators and operands that is interpreted to produce some value.\n",
    "- Expression is made up of   values,variables, and operators."
   ]
  },
  {
   "cell_type": "markdown",
   "metadata": {},
   "source": [
    "#### 5. This assignment statements, like spam = 10. What is the difference between an expression and a statement?"
   ]
  },
  {
   "cell_type": "markdown",
   "metadata": {},
   "source": [
    "- Expressions are made up of values, variables and operators which are interpreted to produce some value.\n",
    "- Statement is a unit of code which has an effect like print a variable, calling a function.\n",
    "\n",
    "spam = 10 :- This statement contains a variable named as spam which stores the value 10 by the assigment operator(=).\\\n",
    "\n",
    "\n",
    "print(spam) :- This statement represents a print function which prints the value which stored in variable 'spam' by using the variable."
   ]
  },
  {
   "cell_type": "markdown",
   "metadata": {},
   "source": [
    "#### 6. After running the following code, what does the variable bacon contain?\n",
    "bacon = 22\\\n",
    "bacon + 1"
   ]
  },
  {
   "cell_type": "markdown",
   "metadata": {},
   "source": [
    "The variable called bacon contains 22 after the running the code because the variable bacon is incrementing by 1 but it is not assigning to it. So bacon variable will not change after running the code."
   ]
  },
  {
   "cell_type": "markdown",
   "metadata": {},
   "source": [
    "#### 7. What should the values of the following two terms be?\n",
    "'spam' + 'spamspam' \\\n",
    "'spam' * 3"
   ]
  },
  {
   "cell_type": "markdown",
   "metadata": {},
   "source": [
    "Both values are same because the first one is concatenating 'spam' and 'spamspam' then it will be 'spamspamspam'. The second one is 'spam' * 3 and 'spam' is repeating 3 times by multiplication operator then it will be 'spamspamspam'. So both are same values."
   ]
  },
  {
   "cell_type": "markdown",
   "metadata": {},
   "source": [
    "#### 8. Why is eggs a valid variable name while 100 is invalid?"
   ]
  },
  {
   "cell_type": "markdown",
   "metadata": {},
   "source": [
    "The identifier of the variable can contains the underscore, characters, integers and it should not start with integer.\n",
    "so eggs is a valid identifier for the variable name because it starts with character and 100 is not a valid identifier for the variable name because it starts with integer."
   ]
  },
  {
   "cell_type": "markdown",
   "metadata": {},
   "source": [
    "#### 9. What three functions can be used to get the integer, floating-point number, or string version of a value?"
   ]
  },
  {
   "cell_type": "markdown",
   "metadata": {},
   "source": [
    "- int() : It is integer function which is used for converting the values into integer and it will not convert the character string into integer but it can convert the  integer string into integer.\n",
    "\n",
    "\n",
    "- float() : It is float function which is used for converting the values into floating point value and it will not convert the character string into float value but it can convert the integer string and floating value string into decimal value.\n",
    "\n",
    "- str() : It is string function which is used for converting the any value into string type value.\n",
    "\n",
    "These three function are helpful for typecasting in programming."
   ]
  },
  {
   "cell_type": "markdown",
   "metadata": {},
   "source": [
    "#### 10. Why does this expression cause an error? How can you fix it?\n",
    "'I have eaten' + 99 + 'burritos.'"
   ]
  },
  {
   "cell_type": "markdown",
   "metadata": {},
   "source": [
    "This expression will cause an error because integers are cannot concatenate with the strings. \n",
    "\n",
    "We can use str() function for converting the integer into string then we can perform concatenation and it will not cause an error."
   ]
  }
 ],
 "metadata": {
  "kernelspec": {
   "display_name": "Python 3",
   "language": "python",
   "name": "python3"
  },
  "language_info": {
   "codemirror_mode": {
    "name": "ipython",
    "version": 3
   },
   "file_extension": ".py",
   "mimetype": "text/x-python",
   "name": "python",
   "nbconvert_exporter": "python",
   "pygments_lexer": "ipython3",
   "version": "3.8.8"
  }
 },
 "nbformat": 4,
 "nbformat_minor": 4
}
